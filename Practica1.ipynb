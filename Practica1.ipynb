{
 "cells": [
  {
   "cell_type": "markdown",
   "metadata": {},
   "source": [
    "# Pràctica 1: \n",
    "\n",
    "Nom dels alumnes del grup:\n",
    "\n",
    "> Recordeu que, tot i que la pràctica es fa en parelles, els dos membres del grup han de lliurar al campus virtual aquest notebook.\n",
    "\n",
    "# Anàlisi exploratòria de dades (EDA) & ús d'eines avançades de Python\n",
    "\n",
    "L'**anàlisi exploratòria de dades** (EDA, per les seves sigles en anglès, *Exploratory Data Analysis*) és un procés crític en la ciència de les dades que implica **explorar, resumir i visualitzar** les dades per a entendre les seves característiques principals. L'objectiu principal de l'EDA és revelar patrons, tendències i anomalies a partir de les dades, sense fer suposicions massa específiques o construir models massa complexes.\n",
    "\n",
    "Aquí teniu alguns dels elements més importants de l'anàlisi exploratòria de dades:\n",
    "\n",
    "+ **Visualització de dades**: A través de gràfics i gràfiques, es representen les dades per a veure distribucions, tendències i relacions. Això pot incloure histogrames, gràfics de barres, diagrames de dispersió, gràfics de caixa, etc.\n",
    "\n",
    "+ **Estadístiques descriptives**: Es calculen estadístiques com la mitjana, la mediana, la desviació estàndard i altres mesures resum per a descriure les característiques bàsiques de les variables.\n",
    "\n",
    "+ **Detecció d'anomalies**: Es busca identificar valors atípics o anòmals que puguin indicar errors o situacions especials en les dades.\n",
    "\n",
    "+ **Imputació de dades faltants**: Si les dades tenen buits o valors faltants, es pot decidir com omplir aquests buits de manera adequada.\n",
    "\n",
    "+ **Exploració de relacions**: Es busquen correlacions i relacions entre les diferents variables de les dades per a identificar connexions i dependencies.\n",
    "\n",
    "+ **Agrupació de dades**: Es divideixen les dades en subconjunts basats en certes característiques per a analitzar-les més detingudament.\n",
    "\n",
    "+ **Transformació de dades**: Es poden aplicar transformacions a les dades per a fer-les més adequades per a anàlisi posterior, com l'estandardització o la normalització.\n",
    "\n",
    "* **Selecció de característiques**: Si es treballa amb un conjunt de dades amb moltes variables, es pot realitzar una selecció de característiques per a reduir la complexitat i millorar l'eficiència de l'anàlisi.\n",
    "\n",
    "Python ofereix una àmplia gamma d'eines i biblioteques per a realitzar l'anàlisi exploratòria de dades (EDA). Algunes de les biblioteques més populars i útils són les següents:\n",
    "\n",
    "+ **NumPy**: NumPy és una biblioteca fonamental per a la computació científica en Python. Proporciona funcionalitats per a treballar amb matrius i vectors, la qual cosa és essencial per a l'anàlisi de dades.\n",
    "\n",
    "+ **Pandas**: Pandas és una biblioteca molt popular per a l'anàlisi de dades que ofereix estructures de dades com DataFrame i Series, que faciliten la manipulació i anàlisi de dades tabulars. Podeu utilitzar Pandas per a carregar, netejar i explorar les dades.\n",
    "\n",
    "+ **Matplotlib**: Matplotlib és una biblioteca per a la visualització de dades que us permet crear una àmplia gamma de gràfics i gràfiques personalitzades. És ideal per a crear histogrames, diagrames de dispersió, gràfics de barres i moltes altres representacions gràfiques.\n",
    "\n",
    "+ **Scipy**: SciPy és una biblioteca que amplia les funcionalitats de NumPy i proporciona eines addicionals per a l'anàlisi científic, inclosos estadístics i mètodes d'optimització.\n",
    "\n",
    "+ **Scikit-learn**: Si esteu interessats en l'aprenentatge automàtic, Scikit-learn és una biblioteca essencial que ofereix eines per a la classificació, regressió, agrupació i altres tasques d'aprenentatge automàtic. També conté eines per a la selecció de característiques.\n",
    "\n",
    "+ **Seaborn**: Seaborn és una biblioteca de visualització de dades basada en Matplotlib que simplifica la creació de gràfics estadístics atractius i informatius. És especialment útil per a la visualització de relacions i tendències en les dades."
   ]
  },
  {
   "cell_type": "markdown",
   "metadata": {},
   "source": [
    "## 0. Objectiu de la pràctica\n",
    "\n",
    "L'**objectiu d'aquesta pràctica** és aprendre com fer una exploració sobre un conjunt de dades real, que al final ens permeti obtenir la resposta a diverses preguntes. \n",
    "\n",
    "En aquesta pràctica explorarem les dades dels trajectes dels **taxis grocs de la ciutat de Nova York** durant varios anys.\n",
    "\n",
    "En finalitzar aquesta pràctica, haureu de ser capaços de respondre la pregunta següent de forma detallada:\n",
    "\n",
    "- **Com va afectar la pandèmia de la Covid l'ús dels taxis a Nova York?**\n",
    "\n",
    "Pere respondre aquesta pregunta tant genèrica, ho descomposarem en preguntes més concretes:\n",
    "\n",
    "- Quina distribució d'encàrrecs segueixen els taxis i quina distància / durada tenen?\n",
    "- Quines són les zones on m'és / menys taxis s'agafen? \n",
    "- Quins horaris són els més usuals?\n",
    "- Quins dies de la setmana i del mes s'utilitzen més? \n",
    "- Etc."
   ]
  },
  {
   "cell_type": "markdown",
   "metadata": {},
   "source": [
    "### Instal·lació i importació de les llibreries necessàries\n",
    "\n",
    "A més a més de les llibreries comentades, farem servir aquests mòduls de Python:\n",
    "\n",
    "+ **PyArrow**: PyArrow és una biblioteca de Python que es fa servir per a l'intercanvi eficient de dades entre Python i altres llenguatges de programació, especialment C++ i Java. Aquesta biblioteca es desenvolupa com a part del projecte Apache Arrow, que és un projecte de codi obert dissenyat per a millorar el rendiment i la interoperabilitat de l'analítica de dades i les tecnologies relacionades. PyArrow permet la creació i la manipulació eficient de dades en forma de taules i columnes. PyArrow ofereix suport per a l'estructura de dades coneguda com a \"Table\", que és similar a una taula o un quadern de dades en altres llenguatges. Aquesta estructura de dades facilita l'organització i la manipulació de dades tabulars.\n",
    "+ **pyshp** és una biblioteca de Python que es fa servir per a llegir i escriure arxius en el format de fitxers de forma (shapefiles). El format de fitxers de forma és un format estàndard en geoinformàtica i geodèsia per a emmagatzemar i intercanviar dades geoespacials, com ara punts, línies i polígons, juntament amb les seves propietats associades.\n",
    "+ **shapely** és una biblioteca de Python que es fa servir per a realitzar operacions geomètriques i anàlisi espacial amb objectes geoespacials. Aquesta biblioteca és especialment útil per a treballar amb geometria plana, com ara punts, línies i polígons, i permet realitzar una àmplia gamma d'operacions, com ara interseccions, unions, àrees, longituds i moltes altres.\n",
    "+ **descartes** és una biblioteca de tercers que es fa servir per a la visualització de gràfics geoespacials."
   ]
  },
  {
   "cell_type": "code",
   "execution_count": 2,
   "metadata": {
    "tags": []
   },
   "outputs": [],
   "source": [
    "%%capture\n",
    "! pip install pyarrow\n",
    "! pip install pyshp==2.1.3\n",
    "! pip install shapely==1.7.1\n",
    "! pip install pandas==1.5.3\n",
    "! pip install numpy==1.22\n",
    "! pip install descartes==1.1.0"
   ]
  },
  {
   "cell_type": "code",
   "execution_count": 3,
   "metadata": {},
   "outputs": [],
   "source": [
    "import pandas as pd\n",
    "import numpy as np\n",
    "import urllib.request\n",
    "import zipfile\n",
    "import os\n",
    "from tqdm.notebook import tqdm\n",
    "import pyarrow.parquet as pq"
   ]
  },
  {
   "cell_type": "code",
   "execution_count": 4,
   "metadata": {},
   "outputs": [],
   "source": [
    "import shapefile\n",
    "from shapely.geometry import Polygon\n",
    "from descartes.patch import PolygonPatch\n",
    "import seaborn as sns\n",
    "import matplotlib as mpl\n",
    "import matplotlib.pyplot as plt\n",
    "%matplotlib inline"
   ]
  },
  {
   "cell_type": "markdown",
   "metadata": {},
   "source": [
    "## 1. Descàrrega de dades"
   ]
  },
  {
   "cell_type": "code",
   "execution_count": 5,
   "metadata": {},
   "outputs": [],
   "source": [
    "# Variables globals: els anys que estudiarem\n",
    "YEARS = [2019, 2020, 2021]"
   ]
  },
  {
   "cell_type": "code",
   "execution_count": 6,
   "metadata": {
    "tags": []
   },
   "outputs": [
    {
     "data": {
      "application/vnd.jupyter.widget-view+json": {
       "model_id": "ca9b9b6affbf471b8bd602536e3b5aa1",
       "version_major": 2,
       "version_minor": 0
      },
      "text/plain": [
       "HBox(children=(IntProgress(value=0, max=3), HTML(value='')))"
      ]
     },
     "metadata": {},
     "output_type": "display_data"
    },
    {
     "data": {
      "application/vnd.jupyter.widget-view+json": {
       "model_id": "675dc2a4c7b94ea8907fe0411425821c",
       "version_major": 2,
       "version_minor": 0
      },
      "text/plain": [
       "HBox(children=(IntProgress(value=0, max=12), HTML(value='')))"
      ]
     },
     "metadata": {},
     "output_type": "display_data"
    },
    {
     "name": "stdout",
     "output_type": "stream",
     "text": [
      "\n"
     ]
    },
    {
     "data": {
      "application/vnd.jupyter.widget-view+json": {
       "model_id": "839e0be2407b42139c5b919f2e6a4909",
       "version_major": 2,
       "version_minor": 0
      },
      "text/plain": [
       "HBox(children=(IntProgress(value=0, max=12), HTML(value='')))"
      ]
     },
     "metadata": {},
     "output_type": "display_data"
    },
    {
     "name": "stdout",
     "output_type": "stream",
     "text": [
      "\n"
     ]
    },
    {
     "data": {
      "application/vnd.jupyter.widget-view+json": {
       "model_id": "7ca0d52759b74a4ab8bae5d2dac2d8d6",
       "version_major": 2,
       "version_minor": 0
      },
      "text/plain": [
       "HBox(children=(IntProgress(value=0, max=12), HTML(value='')))"
      ]
     },
     "metadata": {},
     "output_type": "display_data"
    },
    {
     "name": "stdout",
     "output_type": "stream",
     "text": [
      "\n",
      "\n"
     ]
    }
   ],
   "source": [
    "# Descàrrega de les dades: Trip Record Data \n",
    "# https://www1.nyc.gov/site/tlc/about/tlc-trip-record-data.page\n",
    "\n",
    "for year in tqdm(YEARS):\n",
    "    if not os.path.exists(f'data/{year}'):\n",
    "        os.makedirs(f'data/{year}', exist_ok=True)\n",
    "        for month in tqdm(range(1, 13)): \n",
    "            urllib.request.urlretrieve(f'https://d37ci6vzurychx.cloudfront.net/trip-data/yellow_tripdata_{year}-{month:02d}.parquet', f'data/{year}/{month:02d}.parquet')"
   ]
  },
  {
   "cell_type": "markdown",
   "metadata": {},
   "source": [
    "## 2. Neteja de dades\n",
    "\n",
    "Per tal de tenir unes dades netes i útils, eliminarem totes aquells trajectes (files del conjunt de dades)  que continguin informació *corrupte*. Per exemple, com a mínim cal verificar que no es dóna cap d'aquests casos:\n",
    "\n",
    "- Presència de *missing data* (camps/columnes de les dades sense valor).\n",
    "- L'hora de recollida és posterior a la finalització del trajecte.\n",
    "- Les dades s'importen per mes i any. Són coherents els valors que contenen les dades?\n",
    "- Hi ha viatges amb un nombre absurd de passatgers?\n",
    "- Hi ha viatges massa llargs o massa curts?\n",
    "- Hi ha pagaments negatius?\n",
    "- Etc.\n",
    "\n",
    "A més a més, podem considerar aspectes concrets d'aquestes dades:\n",
    "\n",
    "+ Hi pot haver viatges impossibles segons la normativa: \n",
    "    + [Més viatgers que els permesos](https://www1.nyc.gov/site/tlc/passengers/passenger-frequently-asked-questions.page) o [velocitats il·legals](https://www.speed-limits.com/newyork).\n",
    "    + [Limit de persones permeses a un yellow taxicab](https://drive.google.com/file/d/1eiV7wdm7WrkRlM9bmekCRM6GY3Yq6GI2/view?usp=sharing)"
   ]
  },
  {
   "cell_type": "markdown",
   "metadata": {},
   "source": [
    "De totes les columnes que tenen les dades, només cal fer servir les següents per contestar les preguntes:\n",
    "\n",
    "- *tpep_pickup_datetime*: The date and time when the meter was engaged.\n",
    "- *tpep_dropoff_datetime*: The date and time when the meter was disengaged. \n",
    "- *Passenger_count*: The number of passengers in the vehicle. \n",
    "- *Trip_distance*: The elapsed trip distance in miles reported by the taximeter.\n",
    "- *PULocationID*: TLC Taxi Zone in which the taximeter was engaged\n",
    "- *DOLocationID*: TLC Taxi Zone in which the taximeter was disengaged\n",
    "- *Payment_type*: A numeric code signifying how the passenger paid for the trip. \n",
    "    - 1= Credit card\n",
    "    - 2= Cash\n",
    "    - 3= No charge\n",
    "    - 4= Dispute\n",
    "    - 5= Unknown\n",
    "    - 6= Voided trip\n",
    "- *Fare_amount*: The time-and-distance fare calculated by the meter.\n",
    "- *Total_amount*: The total amount charged to passengers."
   ]
  },
  {
   "cell_type": "code",
   "execution_count": 7,
   "metadata": {},
   "outputs": [
    {
     "data": {
      "text/plain": [
       "(239, 9)"
      ]
     },
     "execution_count": 7,
     "metadata": {},
     "output_type": "execute_result"
    }
   ],
   "source": [
    "# carreguem les dades a un dataframe de pandas\n",
    "# Per agilitzar els càlculs i reduir el temps de càlcul durant el desenvolupament, \n",
    "# podeu treballarem amb una mostra uniforme de les dades (1 fila de cada 1000).\n",
    "\n",
    "def load_table(year, month, sampling = 1000):\n",
    "    \"\"\"\n",
    "    Funció que llegeix les dades descarregades i les converteix a un DataFrame\n",
    "    \"\"\"\n",
    "    data = pq.read_table(f'data/{year}/{str(month).zfill(2)}.parquet').to_pandas()\n",
    "    required_data = ['tpep_pickup_datetime', \n",
    "                 'tpep_dropoff_datetime', \n",
    "                 'passenger_count', \n",
    "                 'trip_distance', \n",
    "                 'PULocationID', \n",
    "                 'DOLocationID', \n",
    "                 'payment_type', \n",
    "                 'fare_amount', \n",
    "                 'total_amount']\n",
    "    return data[required_data][::sampling]\n",
    "\n",
    "# explorem una mica les dades\n",
    "test = load_table(2020, 4)\n",
    "test.shape"
   ]
  },
  {
   "cell_type": "code",
   "execution_count": 8,
   "metadata": {},
   "outputs": [
    {
     "data": {
      "text/html": [
       "<div>\n",
       "<style scoped>\n",
       "    .dataframe tbody tr th:only-of-type {\n",
       "        vertical-align: middle;\n",
       "    }\n",
       "\n",
       "    .dataframe tbody tr th {\n",
       "        vertical-align: top;\n",
       "    }\n",
       "\n",
       "    .dataframe thead th {\n",
       "        text-align: right;\n",
       "    }\n",
       "</style>\n",
       "<table border=\"1\" class=\"dataframe\">\n",
       "  <thead>\n",
       "    <tr style=\"text-align: right;\">\n",
       "      <th></th>\n",
       "      <th>tpep_pickup_datetime</th>\n",
       "      <th>tpep_dropoff_datetime</th>\n",
       "      <th>passenger_count</th>\n",
       "      <th>trip_distance</th>\n",
       "      <th>PULocationID</th>\n",
       "      <th>DOLocationID</th>\n",
       "      <th>payment_type</th>\n",
       "      <th>fare_amount</th>\n",
       "      <th>total_amount</th>\n",
       "    </tr>\n",
       "  </thead>\n",
       "  <tbody>\n",
       "    <tr>\n",
       "      <td>2954000</td>\n",
       "      <td>2021-09-28 16:09:28</td>\n",
       "      <td>2021-09-28 16:09:58</td>\n",
       "      <td>NaN</td>\n",
       "      <td>14.77</td>\n",
       "      <td>265</td>\n",
       "      <td>250</td>\n",
       "      <td>0</td>\n",
       "      <td>86.20</td>\n",
       "      <td>87.00</td>\n",
       "    </tr>\n",
       "    <tr>\n",
       "      <td>2955000</td>\n",
       "      <td>2021-09-28 21:25:55</td>\n",
       "      <td>2021-09-28 21:53:53</td>\n",
       "      <td>NaN</td>\n",
       "      <td>4.05</td>\n",
       "      <td>188</td>\n",
       "      <td>234</td>\n",
       "      <td>0</td>\n",
       "      <td>36.40</td>\n",
       "      <td>46.50</td>\n",
       "    </tr>\n",
       "    <tr>\n",
       "      <td>2956000</td>\n",
       "      <td>2021-09-29 08:51:00</td>\n",
       "      <td>2021-09-29 09:33:00</td>\n",
       "      <td>NaN</td>\n",
       "      <td>8.91</td>\n",
       "      <td>157</td>\n",
       "      <td>261</td>\n",
       "      <td>0</td>\n",
       "      <td>31.63</td>\n",
       "      <td>35.18</td>\n",
       "    </tr>\n",
       "    <tr>\n",
       "      <td>2957000</td>\n",
       "      <td>2021-09-29 13:28:56</td>\n",
       "      <td>2021-09-29 13:38:08</td>\n",
       "      <td>NaN</td>\n",
       "      <td>1.30</td>\n",
       "      <td>141</td>\n",
       "      <td>262</td>\n",
       "      <td>0</td>\n",
       "      <td>7.50</td>\n",
       "      <td>12.42</td>\n",
       "    </tr>\n",
       "    <tr>\n",
       "      <td>2958000</td>\n",
       "      <td>2021-09-29 17:09:10</td>\n",
       "      <td>2021-09-29 18:09:15</td>\n",
       "      <td>NaN</td>\n",
       "      <td>8.21</td>\n",
       "      <td>265</td>\n",
       "      <td>232</td>\n",
       "      <td>0</td>\n",
       "      <td>44.88</td>\n",
       "      <td>45.68</td>\n",
       "    </tr>\n",
       "    <tr>\n",
       "      <td>2959000</td>\n",
       "      <td>2021-09-29 22:28:00</td>\n",
       "      <td>2021-09-29 22:45:00</td>\n",
       "      <td>NaN</td>\n",
       "      <td>7.21</td>\n",
       "      <td>142</td>\n",
       "      <td>243</td>\n",
       "      <td>0</td>\n",
       "      <td>26.76</td>\n",
       "      <td>36.58</td>\n",
       "    </tr>\n",
       "    <tr>\n",
       "      <td>2960000</td>\n",
       "      <td>2021-09-30 08:00:00</td>\n",
       "      <td>2021-09-30 08:12:00</td>\n",
       "      <td>NaN</td>\n",
       "      <td>1.68</td>\n",
       "      <td>143</td>\n",
       "      <td>237</td>\n",
       "      <td>0</td>\n",
       "      <td>13.20</td>\n",
       "      <td>20.00</td>\n",
       "    </tr>\n",
       "    <tr>\n",
       "      <td>2961000</td>\n",
       "      <td>2021-09-30 12:25:05</td>\n",
       "      <td>2021-09-30 12:32:20</td>\n",
       "      <td>NaN</td>\n",
       "      <td>1.29</td>\n",
       "      <td>238</td>\n",
       "      <td>142</td>\n",
       "      <td>0</td>\n",
       "      <td>13.20</td>\n",
       "      <td>20.00</td>\n",
       "    </tr>\n",
       "    <tr>\n",
       "      <td>2962000</td>\n",
       "      <td>2021-09-30 16:48:02</td>\n",
       "      <td>2021-09-30 17:54:00</td>\n",
       "      <td>NaN</td>\n",
       "      <td>8.54</td>\n",
       "      <td>170</td>\n",
       "      <td>95</td>\n",
       "      <td>0</td>\n",
       "      <td>32.90</td>\n",
       "      <td>43.00</td>\n",
       "    </tr>\n",
       "    <tr>\n",
       "      <td>2963000</td>\n",
       "      <td>2021-09-30 19:17:00</td>\n",
       "      <td>2021-09-30 20:02:55</td>\n",
       "      <td>NaN</td>\n",
       "      <td>10.90</td>\n",
       "      <td>138</td>\n",
       "      <td>181</td>\n",
       "      <td>0</td>\n",
       "      <td>37.50</td>\n",
       "      <td>48.66</td>\n",
       "    </tr>\n",
       "  </tbody>\n",
       "</table>\n",
       "</div>"
      ],
      "text/plain": [
       "        tpep_pickup_datetime tpep_dropoff_datetime  passenger_count  \\\n",
       "2954000  2021-09-28 16:09:28   2021-09-28 16:09:58              NaN   \n",
       "2955000  2021-09-28 21:25:55   2021-09-28 21:53:53              NaN   \n",
       "2956000  2021-09-29 08:51:00   2021-09-29 09:33:00              NaN   \n",
       "2957000  2021-09-29 13:28:56   2021-09-29 13:38:08              NaN   \n",
       "2958000  2021-09-29 17:09:10   2021-09-29 18:09:15              NaN   \n",
       "2959000  2021-09-29 22:28:00   2021-09-29 22:45:00              NaN   \n",
       "2960000  2021-09-30 08:00:00   2021-09-30 08:12:00              NaN   \n",
       "2961000  2021-09-30 12:25:05   2021-09-30 12:32:20              NaN   \n",
       "2962000  2021-09-30 16:48:02   2021-09-30 17:54:00              NaN   \n",
       "2963000  2021-09-30 19:17:00   2021-09-30 20:02:55              NaN   \n",
       "\n",
       "         trip_distance  PULocationID  DOLocationID  payment_type  fare_amount  \\\n",
       "2954000          14.77           265           250             0        86.20   \n",
       "2955000           4.05           188           234             0        36.40   \n",
       "2956000           8.91           157           261             0        31.63   \n",
       "2957000           1.30           141           262             0         7.50   \n",
       "2958000           8.21           265           232             0        44.88   \n",
       "2959000           7.21           142           243             0        26.76   \n",
       "2960000           1.68           143           237             0        13.20   \n",
       "2961000           1.29           238           142             0        13.20   \n",
       "2962000           8.54           170            95             0        32.90   \n",
       "2963000          10.90           138           181             0        37.50   \n",
       "\n",
       "         total_amount  \n",
       "2954000         87.00  \n",
       "2955000         46.50  \n",
       "2956000         35.18  \n",
       "2957000         12.42  \n",
       "2958000         45.68  \n",
       "2959000         36.58  \n",
       "2960000         20.00  \n",
       "2961000         20.00  \n",
       "2962000         43.00  \n",
       "2963000         48.66  "
      ]
     },
     "execution_count": 8,
     "metadata": {},
     "output_type": "execute_result"
    }
   ],
   "source": [
    "test = load_table(2021, 9)\n",
    "test.tail(10)"
   ]
  },
  {
   "cell_type": "markdown",
   "metadata": {},
   "source": [
    "###  Exercici A\n",
    "\n",
    "+ Un cop llegides les dades a una taula de Pandas, implementa una funció que faci el procés de neteja que consideris necessari. Per determinar què és necessari, explora els valors que apareixen a cada columna del dataframe de Pandas i decideix què cal fer.\n",
    "\n",
    "> *Nota: Les columnes `Datatime` són un subtipus de dades de Pandas anomenades `datetime`.  Busca com tractar de forma eficient aquest tipus de dades en Pandas.*"
   ]
  },
  {
   "cell_type": "code",
   "execution_count": 62,
   "metadata": {
    "tags": []
   },
   "outputs": [],
   "source": [
    "def clean_data(data, year, month):\n",
    "    \"\"\"\n",
    "    Funció que neteja (una mostra de) les dades per un mes donat.\n",
    "    \"\"\" \n",
    "    # AQUÍ EL TEU CODI\n",
    "    #data = load_table(year,month)\n",
    "    \n",
    "    #Eliminem qualsevol fila amb missing data\n",
    "    data.dropna(how='any', inplace=True) \n",
    "    #Eliminem files amb recollida posterior a la finalizació\n",
    "    data.drop(data[data.tpep_dropoff_datetime<data.tpep_pickup_datetime].index, inplace=True)\n",
    "    #Eliminem files amb dates incoherents (un trajecte pertany a un mes si es finalizta en aquell mes)\n",
    "    data.drop(data[data.tpep_dropoff_datetime.dt.month!=month].index, inplace=True) #Mes diferent al mes donat\n",
    "    data.drop(data[data.tpep_dropoff_datetime.dt.year!=year].index, inplace=True) #Any diferent a l'any donat\n",
    "    #Eliminem files amb nombres absurds de passatgers (que no estiguin entre 1 i 5, d'acord amb la normativa)\n",
    "    data.drop(data[(data.passenger_count<1) | (data.passenger_count>5)].index, inplace=True)\n",
    "    #Eliminem files corresponents a viatges massa llargs o massa curts (considerem que fora del rang 0.1 - 100 milles)\n",
    "    data.drop(data[(data.trip_distance <0.1) | (data.trip_distance >100)].index, inplace=True)\n",
    "    #tambe comprovem que no siguin massa llargs en funció del temps (10 hores)\n",
    "    data.drop(data[(data.tpep_dropoff_datetime-data.tpep_pickup_datetime).astype('timedelta64[h]')>10].index, inplace =True)\n",
    "    #Eliminem files amb pagaments negatius\n",
    "    data.drop(data[(data.total_amount<0) | (data.fare_amount<0)].index, inplace=True)\n",
    "    #Eliminem files amb velocitat mitjana il·legal (65 mph com a màxim, d'acord amb https://www.speed-limits.com/newyork)\n",
    "    data.drop(data[(data.trip_distance/((data.tpep_dropoff_datetime-data.tpep_pickup_datetime).dt.total_seconds()/3600))>65].index, inplace=True)\n",
    "    return data"
   ]
  },
  {
   "cell_type": "code",
   "execution_count": 63,
   "metadata": {},
   "outputs": [
    {
     "data": {
      "text/html": [
       "<div>\n",
       "<style scoped>\n",
       "    .dataframe tbody tr th:only-of-type {\n",
       "        vertical-align: middle;\n",
       "    }\n",
       "\n",
       "    .dataframe tbody tr th {\n",
       "        vertical-align: top;\n",
       "    }\n",
       "\n",
       "    .dataframe thead th {\n",
       "        text-align: right;\n",
       "    }\n",
       "</style>\n",
       "<table border=\"1\" class=\"dataframe\">\n",
       "  <thead>\n",
       "    <tr style=\"text-align: right;\">\n",
       "      <th></th>\n",
       "      <th>tpep_pickup_datetime</th>\n",
       "      <th>tpep_dropoff_datetime</th>\n",
       "      <th>passenger_count</th>\n",
       "      <th>trip_distance</th>\n",
       "      <th>PULocationID</th>\n",
       "      <th>DOLocationID</th>\n",
       "      <th>payment_type</th>\n",
       "      <th>fare_amount</th>\n",
       "      <th>total_amount</th>\n",
       "      <th>trip_duration</th>\n",
       "      <th>mean_velocity</th>\n",
       "    </tr>\n",
       "  </thead>\n",
       "  <tbody>\n",
       "    <tr>\n",
       "      <td>82000</td>\n",
       "      <td>2021-09-02 00:18:16</td>\n",
       "      <td>2021-09-02 01:40:08</td>\n",
       "      <td>1.0</td>\n",
       "      <td>59.021455</td>\n",
       "      <td>181</td>\n",
       "      <td>129</td>\n",
       "      <td>2</td>\n",
       "      <td>57.0</td>\n",
       "      <td>58.30</td>\n",
       "      <td>01:21:52</td>\n",
       "      <td>59.021455</td>\n",
       "    </tr>\n",
       "    <tr>\n",
       "      <td>104000</td>\n",
       "      <td>2021-09-02 11:54:54</td>\n",
       "      <td>2021-09-02 13:10:01</td>\n",
       "      <td>2.0</td>\n",
       "      <td>77.278091</td>\n",
       "      <td>132</td>\n",
       "      <td>48</td>\n",
       "      <td>1</td>\n",
       "      <td>52.0</td>\n",
       "      <td>75.20</td>\n",
       "      <td>01:15:07</td>\n",
       "      <td>77.278091</td>\n",
       "    </tr>\n",
       "    <tr>\n",
       "      <td>130000</td>\n",
       "      <td>2021-09-02 16:54:45</td>\n",
       "      <td>2021-09-02 18:02:04</td>\n",
       "      <td>1.0</td>\n",
       "      <td>59.938455</td>\n",
       "      <td>230</td>\n",
       "      <td>131</td>\n",
       "      <td>2</td>\n",
       "      <td>50.0</td>\n",
       "      <td>54.30</td>\n",
       "      <td>01:07:19</td>\n",
       "      <td>59.938455</td>\n",
       "    </tr>\n",
       "    <tr>\n",
       "      <td>679000</td>\n",
       "      <td>2021-09-09 09:42:39</td>\n",
       "      <td>2021-09-09 11:04:18</td>\n",
       "      <td>2.0</td>\n",
       "      <td>55.853636</td>\n",
       "      <td>138</td>\n",
       "      <td>162</td>\n",
       "      <td>3</td>\n",
       "      <td>54.0</td>\n",
       "      <td>65.10</td>\n",
       "      <td>01:21:39</td>\n",
       "      <td>55.853636</td>\n",
       "    </tr>\n",
       "    <tr>\n",
       "      <td>720000</td>\n",
       "      <td>2021-09-09 16:12:31</td>\n",
       "      <td>2021-09-09 17:13:20</td>\n",
       "      <td>1.0</td>\n",
       "      <td>21.966318</td>\n",
       "      <td>48</td>\n",
       "      <td>226</td>\n",
       "      <td>1</td>\n",
       "      <td>36.0</td>\n",
       "      <td>52.39</td>\n",
       "      <td>01:00:49</td>\n",
       "      <td>21.966318</td>\n",
       "    </tr>\n",
       "    <tr>\n",
       "      <td>1111000</td>\n",
       "      <td>2021-09-13 17:36:08</td>\n",
       "      <td>2021-09-13 18:47:14</td>\n",
       "      <td>1.0</td>\n",
       "      <td>46.183455</td>\n",
       "      <td>68</td>\n",
       "      <td>78</td>\n",
       "      <td>2</td>\n",
       "      <td>44.5</td>\n",
       "      <td>48.80</td>\n",
       "      <td>01:11:06</td>\n",
       "      <td>46.183455</td>\n",
       "    </tr>\n",
       "    <tr>\n",
       "      <td>1251000</td>\n",
       "      <td>2021-09-15 08:10:56</td>\n",
       "      <td>2021-09-15 09:20:22</td>\n",
       "      <td>3.0</td>\n",
       "      <td>73.526727</td>\n",
       "      <td>132</td>\n",
       "      <td>68</td>\n",
       "      <td>2</td>\n",
       "      <td>52.0</td>\n",
       "      <td>63.10</td>\n",
       "      <td>01:09:26</td>\n",
       "      <td>73.526727</td>\n",
       "    </tr>\n",
       "    <tr>\n",
       "      <td>1385000</td>\n",
       "      <td>2021-09-16 14:35:55</td>\n",
       "      <td>2021-09-16 15:46:30</td>\n",
       "      <td>1.0</td>\n",
       "      <td>38.930818</td>\n",
       "      <td>142</td>\n",
       "      <td>181</td>\n",
       "      <td>1</td>\n",
       "      <td>43.0</td>\n",
       "      <td>57.87</td>\n",
       "      <td>01:10:35</td>\n",
       "      <td>38.930818</td>\n",
       "    </tr>\n",
       "    <tr>\n",
       "      <td>1392000</td>\n",
       "      <td>2021-09-16 15:59:57</td>\n",
       "      <td>2021-09-17 00:00:00</td>\n",
       "      <td>1.0</td>\n",
       "      <td>68.024727</td>\n",
       "      <td>132</td>\n",
       "      <td>255</td>\n",
       "      <td>1</td>\n",
       "      <td>46.0</td>\n",
       "      <td>55.26</td>\n",
       "      <td>08:00:03</td>\n",
       "      <td>8.503091</td>\n",
       "    </tr>\n",
       "    <tr>\n",
       "      <td>1502000</td>\n",
       "      <td>2021-09-17 17:35:31</td>\n",
       "      <td>2021-09-17 18:42:57</td>\n",
       "      <td>1.0</td>\n",
       "      <td>34.345818</td>\n",
       "      <td>230</td>\n",
       "      <td>49</td>\n",
       "      <td>1</td>\n",
       "      <td>42.5</td>\n",
       "      <td>56.16</td>\n",
       "      <td>01:07:26</td>\n",
       "      <td>34.345818</td>\n",
       "    </tr>\n",
       "    <tr>\n",
       "      <td>1646000</td>\n",
       "      <td>2021-09-18 23:10:04</td>\n",
       "      <td>2021-09-19 00:38:50</td>\n",
       "      <td>1.0</td>\n",
       "      <td>93.784091</td>\n",
       "      <td>132</td>\n",
       "      <td>226</td>\n",
       "      <td>2</td>\n",
       "      <td>52.0</td>\n",
       "      <td>63.10</td>\n",
       "      <td>01:28:46</td>\n",
       "      <td>93.784091</td>\n",
       "    </tr>\n",
       "    <tr>\n",
       "      <td>1869000</td>\n",
       "      <td>2021-09-21 15:34:57</td>\n",
       "      <td>2021-09-21 17:14:26</td>\n",
       "      <td>2.0</td>\n",
       "      <td>75.402409</td>\n",
       "      <td>142</td>\n",
       "      <td>132</td>\n",
       "      <td>1</td>\n",
       "      <td>52.0</td>\n",
       "      <td>66.36</td>\n",
       "      <td>01:39:29</td>\n",
       "      <td>75.402409</td>\n",
       "    </tr>\n",
       "    <tr>\n",
       "      <td>2033000</td>\n",
       "      <td>2021-09-23 08:23:49</td>\n",
       "      <td>2021-09-23 09:30:41</td>\n",
       "      <td>1.0</td>\n",
       "      <td>71.275909</td>\n",
       "      <td>132</td>\n",
       "      <td>164</td>\n",
       "      <td>1</td>\n",
       "      <td>52.0</td>\n",
       "      <td>75.10</td>\n",
       "      <td>01:06:52</td>\n",
       "      <td>71.275909</td>\n",
       "    </tr>\n",
       "    <tr>\n",
       "      <td>2152000</td>\n",
       "      <td>2021-09-24 12:32:23</td>\n",
       "      <td>2021-09-24 13:45:12</td>\n",
       "      <td>1.0</td>\n",
       "      <td>76.694546</td>\n",
       "      <td>132</td>\n",
       "      <td>68</td>\n",
       "      <td>1</td>\n",
       "      <td>52.0</td>\n",
       "      <td>75.72</td>\n",
       "      <td>01:12:49</td>\n",
       "      <td>76.694546</td>\n",
       "    </tr>\n",
       "    <tr>\n",
       "      <td>2669000</td>\n",
       "      <td>2021-09-29 17:48:18</td>\n",
       "      <td>2021-09-29 19:22:34</td>\n",
       "      <td>1.0</td>\n",
       "      <td>55.853636</td>\n",
       "      <td>114</td>\n",
       "      <td>213</td>\n",
       "      <td>1</td>\n",
       "      <td>59.0</td>\n",
       "      <td>65.30</td>\n",
       "      <td>01:34:16</td>\n",
       "      <td>55.853636</td>\n",
       "    </tr>\n",
       "  </tbody>\n",
       "</table>\n",
       "</div>"
      ],
      "text/plain": [
       "        tpep_pickup_datetime tpep_dropoff_datetime  passenger_count  \\\n",
       "82000    2021-09-02 00:18:16   2021-09-02 01:40:08              1.0   \n",
       "104000   2021-09-02 11:54:54   2021-09-02 13:10:01              2.0   \n",
       "130000   2021-09-02 16:54:45   2021-09-02 18:02:04              1.0   \n",
       "679000   2021-09-09 09:42:39   2021-09-09 11:04:18              2.0   \n",
       "720000   2021-09-09 16:12:31   2021-09-09 17:13:20              1.0   \n",
       "1111000  2021-09-13 17:36:08   2021-09-13 18:47:14              1.0   \n",
       "1251000  2021-09-15 08:10:56   2021-09-15 09:20:22              3.0   \n",
       "1385000  2021-09-16 14:35:55   2021-09-16 15:46:30              1.0   \n",
       "1392000  2021-09-16 15:59:57   2021-09-17 00:00:00              1.0   \n",
       "1502000  2021-09-17 17:35:31   2021-09-17 18:42:57              1.0   \n",
       "1646000  2021-09-18 23:10:04   2021-09-19 00:38:50              1.0   \n",
       "1869000  2021-09-21 15:34:57   2021-09-21 17:14:26              2.0   \n",
       "2033000  2021-09-23 08:23:49   2021-09-23 09:30:41              1.0   \n",
       "2152000  2021-09-24 12:32:23   2021-09-24 13:45:12              1.0   \n",
       "2669000  2021-09-29 17:48:18   2021-09-29 19:22:34              1.0   \n",
       "\n",
       "         trip_distance  PULocationID  DOLocationID  payment_type  fare_amount  \\\n",
       "82000        59.021455           181           129             2         57.0   \n",
       "104000       77.278091           132            48             1         52.0   \n",
       "130000       59.938455           230           131             2         50.0   \n",
       "679000       55.853636           138           162             3         54.0   \n",
       "720000       21.966318            48           226             1         36.0   \n",
       "1111000      46.183455            68            78             2         44.5   \n",
       "1251000      73.526727           132            68             2         52.0   \n",
       "1385000      38.930818           142           181             1         43.0   \n",
       "1392000      68.024727           132           255             1         46.0   \n",
       "1502000      34.345818           230            49             1         42.5   \n",
       "1646000      93.784091           132           226             2         52.0   \n",
       "1869000      75.402409           142           132             1         52.0   \n",
       "2033000      71.275909           132           164             1         52.0   \n",
       "2152000      76.694546           132            68             1         52.0   \n",
       "2669000      55.853636           114           213             1         59.0   \n",
       "\n",
       "         total_amount trip_duration  mean_velocity  \n",
       "82000           58.30      01:21:52      59.021455  \n",
       "104000          75.20      01:15:07      77.278091  \n",
       "130000          54.30      01:07:19      59.938455  \n",
       "679000          65.10      01:21:39      55.853636  \n",
       "720000          52.39      01:00:49      21.966318  \n",
       "1111000         48.80      01:11:06      46.183455  \n",
       "1251000         63.10      01:09:26      73.526727  \n",
       "1385000         57.87      01:10:35      38.930818  \n",
       "1392000         55.26      08:00:03       8.503091  \n",
       "1502000         56.16      01:07:26      34.345818  \n",
       "1646000         63.10      01:28:46      93.784091  \n",
       "1869000         66.36      01:39:29      75.402409  \n",
       "2033000         75.10      01:06:52      71.275909  \n",
       "2152000         75.72      01:12:49      76.694546  \n",
       "2669000         65.30      01:34:16      55.853636  "
      ]
     },
     "execution_count": 63,
     "metadata": {},
     "output_type": "execute_result"
    }
   ],
   "source": [
    "test.shape\n",
    "clean_data(test,2021,9)"
   ]
  },
  {
   "cell_type": "code",
   "execution_count": 64,
   "metadata": {},
   "outputs": [
    {
     "data": {
      "text/plain": [
       "(15, 11)"
      ]
     },
     "execution_count": 64,
     "metadata": {},
     "output_type": "execute_result"
    }
   ],
   "source": [
    "test.tail()\n",
    "test.shape"
   ]
  },
  {
   "cell_type": "markdown",
   "metadata": {},
   "source": [
    "###  Exercici B\n",
    "\n",
    "+ Escriu una funció que transformi la taula original a una nova taula, més adequada per tal de dur a terme l'exploració necessària. Podeu afegir columnes addicionals, precalcular valors, etc.\n",
    "\n",
    "> Per exemple, podem trasnformar les dades per treballar amb les unitats de kilòmetres i hores per a representar les durades, distàncies i velocitats del trajecte. El motiu és, per una banda, que estem familiaritzades amb el Sistema Internacional d'Unitats (d'aquí el canvi de milles a km). I per altra, optar pels km i no pels metres degut a l'ordre de magnitud de les dades."
   ]
  },
  {
   "cell_type": "code",
   "execution_count": 65,
   "metadata": {
    "tags": []
   },
   "outputs": [],
   "source": [
    "def post_processing(data):\n",
    "    \"\"\"\n",
    "    Funció on implementar qualsevol tipus de postprocessament necessari.\n",
    "    \"\"\"\n",
    "    # AQUÍ EL TEU CODI\n",
    "    #Comencem convertint de milles a km\n",
    "    data['trip_distance'] = data['trip_distance']*1.609344\n",
    "    #Afegim una columna per les durades \n",
    "    data['trip_duration'] = data['tpep_dropoff_datetime']-data['tpep_pickup_datetime']\n",
    "    #Afegim una columna per la velocitaten km/h\n",
    "    data['mean_velocity'] = data['trip_distance']/((data['trip_duration']).dt.total_seconds()/3600)\n",
    "    return data"
   ]
  },
  {
   "cell_type": "code",
   "execution_count": 66,
   "metadata": {},
   "outputs": [
    {
     "data": {
      "text/html": [
       "<div>\n",
       "<style scoped>\n",
       "    .dataframe tbody tr th:only-of-type {\n",
       "        vertical-align: middle;\n",
       "    }\n",
       "\n",
       "    .dataframe tbody tr th {\n",
       "        vertical-align: top;\n",
       "    }\n",
       "\n",
       "    .dataframe thead th {\n",
       "        text-align: right;\n",
       "    }\n",
       "</style>\n",
       "<table border=\"1\" class=\"dataframe\">\n",
       "  <thead>\n",
       "    <tr style=\"text-align: right;\">\n",
       "      <th></th>\n",
       "      <th>tpep_pickup_datetime</th>\n",
       "      <th>tpep_dropoff_datetime</th>\n",
       "      <th>passenger_count</th>\n",
       "      <th>trip_distance</th>\n",
       "      <th>PULocationID</th>\n",
       "      <th>DOLocationID</th>\n",
       "      <th>payment_type</th>\n",
       "      <th>fare_amount</th>\n",
       "      <th>total_amount</th>\n",
       "      <th>trip_duration</th>\n",
       "      <th>mean_velocity</th>\n",
       "    </tr>\n",
       "  </thead>\n",
       "  <tbody>\n",
       "    <tr>\n",
       "      <td>1646000</td>\n",
       "      <td>2021-09-18 23:10:04</td>\n",
       "      <td>2021-09-19 00:38:50</td>\n",
       "      <td>1.0</td>\n",
       "      <td>150.930864</td>\n",
       "      <td>132</td>\n",
       "      <td>226</td>\n",
       "      <td>2</td>\n",
       "      <td>52.0</td>\n",
       "      <td>63.10</td>\n",
       "      <td>01:28:46</td>\n",
       "      <td>102.018609</td>\n",
       "    </tr>\n",
       "    <tr>\n",
       "      <td>1869000</td>\n",
       "      <td>2021-09-21 15:34:57</td>\n",
       "      <td>2021-09-21 17:14:26</td>\n",
       "      <td>2.0</td>\n",
       "      <td>121.348415</td>\n",
       "      <td>142</td>\n",
       "      <td>132</td>\n",
       "      <td>1</td>\n",
       "      <td>52.0</td>\n",
       "      <td>66.36</td>\n",
       "      <td>01:39:29</td>\n",
       "      <td>73.187183</td>\n",
       "    </tr>\n",
       "    <tr>\n",
       "      <td>2033000</td>\n",
       "      <td>2021-09-23 08:23:49</td>\n",
       "      <td>2021-09-23 09:30:41</td>\n",
       "      <td>1.0</td>\n",
       "      <td>114.707457</td>\n",
       "      <td>132</td>\n",
       "      <td>164</td>\n",
       "      <td>1</td>\n",
       "      <td>52.0</td>\n",
       "      <td>75.10</td>\n",
       "      <td>01:06:52</td>\n",
       "      <td>102.927927</td>\n",
       "    </tr>\n",
       "    <tr>\n",
       "      <td>2152000</td>\n",
       "      <td>2021-09-24 12:32:23</td>\n",
       "      <td>2021-09-24 13:45:12</td>\n",
       "      <td>1.0</td>\n",
       "      <td>123.427907</td>\n",
       "      <td>132</td>\n",
       "      <td>68</td>\n",
       "      <td>1</td>\n",
       "      <td>52.0</td>\n",
       "      <td>75.72</td>\n",
       "      <td>01:12:49</td>\n",
       "      <td>101.703013</td>\n",
       "    </tr>\n",
       "    <tr>\n",
       "      <td>2669000</td>\n",
       "      <td>2021-09-29 17:48:18</td>\n",
       "      <td>2021-09-29 19:22:34</td>\n",
       "      <td>1.0</td>\n",
       "      <td>89.887715</td>\n",
       "      <td>114</td>\n",
       "      <td>213</td>\n",
       "      <td>1</td>\n",
       "      <td>59.0</td>\n",
       "      <td>65.30</td>\n",
       "      <td>01:34:16</td>\n",
       "      <td>57.212831</td>\n",
       "    </tr>\n",
       "  </tbody>\n",
       "</table>\n",
       "</div>"
      ],
      "text/plain": [
       "        tpep_pickup_datetime tpep_dropoff_datetime  passenger_count  \\\n",
       "1646000  2021-09-18 23:10:04   2021-09-19 00:38:50              1.0   \n",
       "1869000  2021-09-21 15:34:57   2021-09-21 17:14:26              2.0   \n",
       "2033000  2021-09-23 08:23:49   2021-09-23 09:30:41              1.0   \n",
       "2152000  2021-09-24 12:32:23   2021-09-24 13:45:12              1.0   \n",
       "2669000  2021-09-29 17:48:18   2021-09-29 19:22:34              1.0   \n",
       "\n",
       "         trip_distance  PULocationID  DOLocationID  payment_type  fare_amount  \\\n",
       "1646000     150.930864           132           226             2         52.0   \n",
       "1869000     121.348415           142           132             1         52.0   \n",
       "2033000     114.707457           132           164             1         52.0   \n",
       "2152000     123.427907           132            68             1         52.0   \n",
       "2669000      89.887715           114           213             1         59.0   \n",
       "\n",
       "         total_amount trip_duration  mean_velocity  \n",
       "1646000         63.10      01:28:46     102.018609  \n",
       "1869000         66.36      01:39:29      73.187183  \n",
       "2033000         75.10      01:06:52     102.927927  \n",
       "2152000         75.72      01:12:49     101.703013  \n",
       "2669000         65.30      01:34:16      57.212831  "
      ]
     },
     "execution_count": 66,
     "metadata": {},
     "output_type": "execute_result"
    }
   ],
   "source": [
    "post_processing(test)\n",
    "test.tail()"
   ]
  },
  {
   "cell_type": "markdown",
   "metadata": {},
   "source": [
    "Amb això podem crear un nou dataset (una única taula) que contingui tota la informació dels anys: 2019, 2020, 2021."
   ]
  },
  {
   "cell_type": "code",
   "execution_count": 67,
   "metadata": {
    "tags": []
   },
   "outputs": [
    {
     "data": {
      "application/vnd.jupyter.widget-view+json": {
       "model_id": "8895ffd5291f4d1ea9921b9a136c2343",
       "version_major": 2,
       "version_minor": 0
      },
      "text/plain": [
       "HBox(children=(IntProgress(value=0, max=3), HTML(value='')))"
      ]
     },
     "metadata": {},
     "output_type": "display_data"
    },
    {
     "data": {
      "application/vnd.jupyter.widget-view+json": {
       "model_id": "acfc12ec823b436e8fe28eaf5316a2ec",
       "version_major": 2,
       "version_minor": 0
      },
      "text/plain": [
       "HBox(children=(IntProgress(value=0, max=12), HTML(value='')))"
      ]
     },
     "metadata": {},
     "output_type": "display_data"
    },
    {
     "data": {
      "application/vnd.jupyter.widget-view+json": {
       "model_id": "6e5e278ae69449b68e6632c98fe5e450",
       "version_major": 2,
       "version_minor": 0
      },
      "text/plain": [
       "HBox(children=(IntProgress(value=0, max=12), HTML(value='')))"
      ]
     },
     "metadata": {},
     "output_type": "display_data"
    },
    {
     "data": {
      "application/vnd.jupyter.widget-view+json": {
       "model_id": "be405b84817c4c1abf1d4db9e8c9e5a8",
       "version_major": 2,
       "version_minor": 0
      },
      "text/plain": [
       "HBox(children=(IntProgress(value=0, max=12), HTML(value='')))"
      ]
     },
     "metadata": {},
     "output_type": "display_data"
    },
    {
     "name": "stdout",
     "output_type": "stream",
     "text": [
      "\n"
     ]
    },
    {
     "data": {
      "text/plain": [
       "(129129, 11)"
      ]
     },
     "execution_count": 67,
     "metadata": {},
     "output_type": "execute_result"
    }
   ],
   "source": [
    "df = pd.concat([clean_data(load_table(year, month), year, month) \n",
    "                for year in tqdm(YEARS) \n",
    "                for month in tqdm(range(1, 13), leave = False)])\n",
    "df = post_processing(df)\n",
    "df.shape"
   ]
  },
  {
   "cell_type": "code",
   "execution_count": 68,
   "metadata": {},
   "outputs": [
    {
     "data": {
      "text/html": [
       "<div>\n",
       "<style scoped>\n",
       "    .dataframe tbody tr th:only-of-type {\n",
       "        vertical-align: middle;\n",
       "    }\n",
       "\n",
       "    .dataframe tbody tr th {\n",
       "        vertical-align: top;\n",
       "    }\n",
       "\n",
       "    .dataframe thead th {\n",
       "        text-align: right;\n",
       "    }\n",
       "</style>\n",
       "<table border=\"1\" class=\"dataframe\">\n",
       "  <thead>\n",
       "    <tr style=\"text-align: right;\">\n",
       "      <th></th>\n",
       "      <th>tpep_pickup_datetime</th>\n",
       "      <th>tpep_dropoff_datetime</th>\n",
       "      <th>passenger_count</th>\n",
       "      <th>trip_distance</th>\n",
       "      <th>PULocationID</th>\n",
       "      <th>DOLocationID</th>\n",
       "      <th>payment_type</th>\n",
       "      <th>fare_amount</th>\n",
       "      <th>total_amount</th>\n",
       "      <th>trip_duration</th>\n",
       "      <th>mean_velocity</th>\n",
       "    </tr>\n",
       "  </thead>\n",
       "  <tbody>\n",
       "    <tr>\n",
       "      <td>0</td>\n",
       "      <td>2019-01-01 00:46:40</td>\n",
       "      <td>2019-01-01 00:53:20</td>\n",
       "      <td>1.0</td>\n",
       "      <td>2.414016</td>\n",
       "      <td>151</td>\n",
       "      <td>239</td>\n",
       "      <td>1</td>\n",
       "      <td>7.0</td>\n",
       "      <td>9.95</td>\n",
       "      <td>00:06:40</td>\n",
       "      <td>21.726144</td>\n",
       "    </tr>\n",
       "    <tr>\n",
       "      <td>1000</td>\n",
       "      <td>2019-01-01 00:53:09</td>\n",
       "      <td>2019-01-01 01:01:16</td>\n",
       "      <td>1.0</td>\n",
       "      <td>3.073847</td>\n",
       "      <td>148</td>\n",
       "      <td>137</td>\n",
       "      <td>2</td>\n",
       "      <td>8.5</td>\n",
       "      <td>9.80</td>\n",
       "      <td>00:08:07</td>\n",
       "      <td>22.722483</td>\n",
       "    </tr>\n",
       "    <tr>\n",
       "      <td>2000</td>\n",
       "      <td>2019-01-01 00:50:22</td>\n",
       "      <td>2019-01-01 01:19:44</td>\n",
       "      <td>2.0</td>\n",
       "      <td>12.391949</td>\n",
       "      <td>264</td>\n",
       "      <td>264</td>\n",
       "      <td>1</td>\n",
       "      <td>26.0</td>\n",
       "      <td>31.30</td>\n",
       "      <td>00:29:22</td>\n",
       "      <td>25.318397</td>\n",
       "    </tr>\n",
       "    <tr>\n",
       "      <td>3000</td>\n",
       "      <td>2019-01-01 00:54:46</td>\n",
       "      <td>2019-01-01 01:03:13</td>\n",
       "      <td>1.0</td>\n",
       "      <td>2.253082</td>\n",
       "      <td>249</td>\n",
       "      <td>164</td>\n",
       "      <td>1</td>\n",
       "      <td>7.5</td>\n",
       "      <td>11.40</td>\n",
       "      <td>00:08:27</td>\n",
       "      <td>15.998213</td>\n",
       "    </tr>\n",
       "    <tr>\n",
       "      <td>4000</td>\n",
       "      <td>2019-01-01 00:09:29</td>\n",
       "      <td>2019-01-01 00:12:29</td>\n",
       "      <td>2.0</td>\n",
       "      <td>1.078260</td>\n",
       "      <td>162</td>\n",
       "      <td>137</td>\n",
       "      <td>2</td>\n",
       "      <td>4.0</td>\n",
       "      <td>5.30</td>\n",
       "      <td>00:03:00</td>\n",
       "      <td>21.565210</td>\n",
       "    </tr>\n",
       "  </tbody>\n",
       "</table>\n",
       "</div>"
      ],
      "text/plain": [
       "     tpep_pickup_datetime tpep_dropoff_datetime  passenger_count  \\\n",
       "0     2019-01-01 00:46:40   2019-01-01 00:53:20              1.0   \n",
       "1000  2019-01-01 00:53:09   2019-01-01 01:01:16              1.0   \n",
       "2000  2019-01-01 00:50:22   2019-01-01 01:19:44              2.0   \n",
       "3000  2019-01-01 00:54:46   2019-01-01 01:03:13              1.0   \n",
       "4000  2019-01-01 00:09:29   2019-01-01 00:12:29              2.0   \n",
       "\n",
       "      trip_distance  PULocationID  DOLocationID  payment_type  fare_amount  \\\n",
       "0          2.414016           151           239             1          7.0   \n",
       "1000       3.073847           148           137             2          8.5   \n",
       "2000      12.391949           264           264             1         26.0   \n",
       "3000       2.253082           249           164             1          7.5   \n",
       "4000       1.078260           162           137             2          4.0   \n",
       "\n",
       "      total_amount trip_duration  mean_velocity  \n",
       "0             9.95      00:06:40      21.726144  \n",
       "1000          9.80      00:08:07      22.722483  \n",
       "2000         31.30      00:29:22      25.318397  \n",
       "3000         11.40      00:08:27      15.998213  \n",
       "4000          5.30      00:03:00      21.565210  "
      ]
     },
     "execution_count": 68,
     "metadata": {},
     "output_type": "execute_result"
    }
   ],
   "source": [
    "df.head()"
   ]
  },
  {
   "cell_type": "markdown",
   "metadata": {},
   "source": [
    "## 3. Visualització de dades anuals"
   ]
  },
  {
   "cell_type": "markdown",
   "metadata": {},
   "source": [
    "Començarem per obtenir una resposta quantitativa a la pregunta **S'ha incrementat o ha disminuït amb la covid la quantitat de viatges anuals fets amb taxis?**, n'hi ha prou amb crear una figura de barres on es visualitzin la quantitat de viatges per any.\n",
    "\n",
    "### Exercici C\n",
    "\n",
    "+ Escriu una funció basada en `matplotlib` que generi aquesta gràfica."
   ]
  },
  {
   "cell_type": "code",
   "execution_count": 242,
   "metadata": {},
   "outputs": [],
   "source": [
    "def bar_plot(ax,df, column, xlabel, ylabel, title):\n",
    "    \"\"\"\n",
    "    Funció que crea una figura de barres a partir del dataframe i \n",
    "    la columna que conté la informació\n",
    "    \"\"\"\n",
    "    # AQUÍ EL TEU CODI\n",
    "    ax.bar(df.index.astype(str),df[column],width = 0.5,color = '#FFC300') #Creem el diagrama de barres en funció de l'index i la columna\n",
    "  \n",
    "    #Afegim etiquetes i títol\n",
    "    ax.set_xlabel(xlabel)\n",
    "    ax.set_ylabel(ylabel)\n",
    "    ax.set_title(title)\n",
    "    \n",
    "    ax.grid(True)\n",
    "    return ax"
   ]
  },
  {
   "cell_type": "markdown",
   "metadata": {},
   "source": [
    "+ Visualitza el nombre de viatges de cada any."
   ]
  },
  {
   "cell_type": "code",
   "execution_count": 243,
   "metadata": {
    "tags": []
   },
   "outputs": [
    {
     "data": {
      "image/png": "[encoded data removed]",
      "text/plain": [
       "<Figure size 432x288 with 1 Axes>"
      ]
     },
     "metadata": {
      "needs_background": "light"
     },
     "output_type": "display_data"
    }
   ],
   "source": [
    "# AQUÍ EL TEU CODI\n",
    "\n",
    "#Comencem agrupant el nombre de viatgers per any i convertint-ho a dataframe\n",
    "\n",
    "travelers_per_year = pd.DataFrame(df.groupby(df['tpep_dropoff_datetime'].dt.year)['passenger_count'].sum())\n",
    "\n",
    "#Fem servir la funció bar_plot per mostrar el diagrama\n",
    "fig = plt.figure()\n",
    "ax = fig.add_subplot(1, 1, 1)\n",
    "bar_plot(ax,travelers_per_year,'passenger_count','Any','Nombre de viatgers','Nombre de viatgers per any')\n",
    "plt.show()"
   ]
  },
  {
   "cell_type": "markdown",
   "metadata": {},
   "source": [
    "+ Visualitza ara en tres gràfiques, el nombre de viatges per mesos de cada any, fent servir la funció anterior."
   ]
  },
  {
   "cell_type": "code",
   "execution_count": 244,
   "metadata": {},
   "outputs": [
    {
     "data": {
      "image/png": "[encoded data removed]",
      "text/plain": [
       "<Figure size 1440x360 with 3 Axes>"
      ]
     },
     "metadata": {
      "needs_background": "light"
     },
     "output_type": "display_data"
    }
   ],
   "source": [
    "# AQUÍ EL TEU CODI\n",
    "\n",
    "fig, axs = plt.subplots(1, 3, figsize=(20, 5))\n",
    "\n",
    "for i, year in enumerate(range(2019, 2022)): #Fem un bucle per tots els anys\n",
    "    trips_per_year = df[df.tpep_dropoff_datetime.dt.year == year] #reduïm la taula a l'any en concret\n",
    "    #Classifiquem el nombre de passatgers per mes\n",
    "    travelers_per_month = pd.DataFrame(trips_per_year.groupby(trips_per_year['tpep_dropoff_datetime'].dt.month)['passenger_count'].sum())\n",
    "    #Imprimim el diagrama\n",
    "    \n",
    "    bar_plot(axs[i],travelers_per_month,'passenger_count','Mes','Nombre de viatgers',f'Nombre de viatgers per mes (Any {year})') \n",
    "    \n",
    "plt.tight_layout()\n",
    "plt.show()   "
   ]
  },
  {
   "cell_type": "markdown",
   "metadata": {},
   "source": [
    "+ És el comportament que esperàveu? Per què?"
   ]
  },
  {
   "cell_type": "markdown",
   "metadata": {},
   "source": [
    "> Resposta: Efectivament és el comportament que esperàvem. Com que sabem, per experiència personal, que els confinaments a causa de la covid es van fer efectius a mitjans del mes de març de 2020, intuïem que hi hauria una davallada significativa del nombre de viatges en taxi a partir d'aquella data i que anirien incrementant-se a mesura que, al llarg dels mesos, la situació sanitària s'anés relaxant."
   ]
  },
  {
   "cell_type": "markdown",
   "metadata": {},
   "source": [
    "+ Visualitza **quants passatgers hi ha per taxi i per any**. Crea una figura **amb tres subfigures** (una per any) on es pugui veure el recompte de passatgers per any. Després repetiu el mateix gràfic visualitzant el % (utilitzeu el paràmetre *norm = True*)."
   ]
  },
  {
   "cell_type": "code",
   "execution_count": 283,
   "metadata": {},
   "outputs": [],
   "source": [
    "def passengers_taxi_year(df, ylim, xlabel, ylabel, title, norm = False):\n",
    "    \"\"\"\n",
    "    Funció que visualitza quants passatgers hi ha per taxi i per any\n",
    "    \"\"\"\n",
    "    fig, ax = plt.subplots(figsize=(10, 5))\n",
    "    bar_width = 0.3\n",
    "    years = range(2019, 2022)\n",
    "    colors = ['#FFC300','#FF5733','#C70039']\n",
    "    for i, year in enumerate(years): #Fem un bucle per tots els anys\n",
    "        trips_per_year = df[df.tpep_dropoff_datetime.dt.year == year] #reduïm la taula a l'any en concret\n",
    "        #Calculem el nombre de passatgers per franja de passatgers (de 1 a 5)\n",
    "        dataframe = pd.DataFrame(trips_per_year.groupby(trips_per_year['passenger_count'])['passenger_count'].count()) \n",
    "        \n",
    "        \n",
    "        if norm: #Si el paràmatre norm és a true, calculem el percentatge\n",
    "            total = int(dataframe.sum())#Calculem la suma\n",
    "            dataframe['passenger_count'] = 100*(dataframe['passenger_count']/total) #Dividem pel total i multipliquem\n",
    "            \n",
    "        x = np.arange(len(dataframe))\n",
    "        ax.bar(x+bar_width*i,dataframe['passenger_count'],width = bar_width,label = str(year),color = colors[i]) #Afegim les barres al gràfic\n",
    "    #Paràmetres del diagrama\n",
    "    ax.grid(True) #Graella\n",
    "   \n",
    "    ax.set_xlabel(xlabel) #Etiquetes\n",
    "    ax.set_ylabel(ylabel)\n",
    "    ax.set_title(title)\n",
    "    ax.set_xticks(np.arange(len(dataframe)) + bar_width * (len(years) / 2)) #Posició de les marques de les abscisses\n",
    "    ax.set_xticklabels(dataframe.index)\n",
    "    ax.legend(title='Year') #Llegenda\n",
    "\n",
    "    plt.ylim(ylim)\n",
    "    plt.tight_layout()\n",
    "\n",
    "   \n",
    "    plt.show()"
   ]
  },
  {
   "cell_type": "code",
   "execution_count": 284,
   "metadata": {
    "tags": []
   },
   "outputs": [
    {
     "data": {
      "image/png": "[encoded data removed]",
      "text/plain": [
       "<Figure size 720x360 with 1 Axes>"
      ]
     },
     "metadata": {
      "needs_background": "light"
     },
     "output_type": "display_data"
    }
   ],
   "source": [
    "passengers_taxi_year(df, \n",
    "                     (0, 60000), \n",
    "                     'Nombre de passatgers', \n",
    "                     'Recompte de passatgers', \n",
    "                     'Recompte de passatgers per any')"
   ]
  },
  {
   "cell_type": "code",
   "execution_count": 310,
   "metadata": {
    "tags": []
   },
   "outputs": [
    {
     "data": {
      "image/png": "[encoded data removed]",
      "text/plain": [
       "<Figure size 720x360 with 1 Axes>"
      ]
     },
     "metadata": {
      "needs_background": "light"
     },
     "output_type": "display_data"
    }
   ],
   "source": [
    "passengers_taxi_year(df, \n",
    "                     (0, 80), \n",
    "                     'Nombre de passatgers', \n",
    "                     '%', \n",
    "                     '% de passatgers per any', \n",
    "                     norm = True)"
   ]
  },
  {
   "cell_type": "markdown",
   "metadata": {},
   "source": [
    "+ Com descriurieu de forma **qualitativa** l'efecte de la covid sobre els taxis en base a l'anàlisi fet fins ara?\n",
    "\n",
    "> Resposta: De forma qualitativa podem dir que han disminuït el nombre total de viatges en taxi després del covid. No podem dir, en canvi, que els viatgers optin molt més freqüentment per fer viatges individuals després del covid que abans, ja que el percentatge de viatges amb un sol passatger és sempre prà\n",
    "\n",
    "+ Podeu calcular de forma **quantitativa** la magnitud dels canvis que heu detectat? Escriviu una funció que calculi una sèrie d'indicadors quantitatius (per exemple, quin canvi percentual hi ha en el nombre de viatges d'una sola persona, etc.)."
   ]
  },
  {
   "cell_type": "code",
   "execution_count": 357,
   "metadata": {},
   "outputs": [
    {
     "data": {
      "image/png": "[encoded data removed]",
      "text/plain": [
       "<Figure size 720x360 with 1 Axes>"
      ]
     },
     "metadata": {
      "needs_background": "light"
     },
     "output_type": "display_data"
    }
   ],
   "source": [
    "import matplotlib.pyplot as plt\n",
    "import numpy as np\n",
    "import pandas as pd\n",
    "\n",
    "def percent_change(df, ylim, xlabel, ylabel, title):\n",
    "    \"\"\"\n",
    "    Function to visualize the percentage of passengers per taxi per year\n",
    "    \"\"\"\n",
    "    fig, ax = plt.subplots(figsize=(10, 5))\n",
    "    bar_width = 0.6\n",
    "    years = range(2019, 2022)\n",
    "    colors = ['#FFC300', '#FF5733', '#C70039']\n",
    "    change = [None]\n",
    "    prev = None\n",
    "\n",
    "    for i, year in enumerate(years): #Fem un bucle per tots els anys\n",
    "        trips_per_year = df[df.tpep_dropoff_datetime.dt.year == year]#reduïm la taula a l'any en concret\n",
    "        #Calculem el nombre de passatgers per franja de passatgers (de 1 a 5)\n",
    "        dataframe = pd.DataFrame(trips_per_year.groupby(trips_per_year['passenger_count'])['passenger_count'].count())\n",
    "        total = int(dataframe.sum())#Calculem la suma\n",
    "        dataframe['passenger_count'] = 100 * (dataframe['passenger_count'] / total)#Dividem pel total i multipliquem\n",
    "\n",
    "        x = np.arange(len(dataframe))*2\n",
    "        ax.bar(x + bar_width * i, dataframe['passenger_count'], width=bar_width, label=str(year), color=colors[i])#Afegim les barres al gràfic\n",
    "        if i != 0:\n",
    "            change.append(dataframe - prev)\n",
    "        # Afegim el percentarge de canvi\n",
    "            for j, val in enumerate(dataframe['passenger_count']):\n",
    "                if change[i][\"passenger_count\"].iloc[j] >= 0: #Si es positiu mostrem el signe +\n",
    "                    ax.text(x[j] + bar_width * i, val + 1, f'+ {change[i][\"passenger_count\"].iloc[j]:.2f}%', ha='center', color=colors[i],fontsize=8)\n",
    "                else:\n",
    "                    ax.text(x[j] + bar_width * i, val + 1, f'- {abs(change[i][\"passenger_count\"].iloc[j]):.2f}%', ha='center', color=colors[i],fontsize=8)\n",
    "        prev = dataframe.copy()\n",
    "   \n",
    "    #Paràmetres del diagrama\n",
    "    ax.grid(False) #Graella\n",
    "   \n",
    "    ax.set_xlabel(xlabel) #Etiquetes\n",
    "    ax.set_ylabel(ylabel)\n",
    "    ax.set_title(title)\n",
    "    ax.set_xticks(np.arange(len(dataframe)) + bar_width * (len(years) / 2)) #Posició de les marques de les abscisses\n",
    "    ax.set_xticklabels(dataframe.index)\n",
    "    ax.legend(title='Year') #Llegenda\n",
    "\n",
    "    plt.ylim(ylim)\n",
    "    plt.tight_layout()\n",
    "\n",
    "   \n",
    "    plt.show()\n",
    "\n",
    "percent_change(df, (0, 85), 'Nombre de passatgers', '%', '% de passatgers per any')\n"
   ]
  },
  {
   "cell_type": "markdown",
   "metadata": {},
   "source": [
    "+ Descriviu els resultats quantitatius que heu obtingut.\n",
    "\n",
    "> Resposta: Veiem com el percentatge de viatges amb un sol passatger del 2019 al 2020 incrementa 3.16 punts i del 2020 al 2021 es redueix 0.72 punts.\n",
    "També hi ha canvis en els viatges amb múltiples viatgers, però en cap dels casos els canvis són significatius"
   ]
  },
  {
   "cell_type": "markdown",
   "metadata": {},
   "source": [
    "## 4. Quantitat de viatges\n",
    "\n",
    "Fins ara hem vist la quantitat de viatges que hi ha hagut a nivell de mesos i anys.\n",
    "\n",
    "Ara podem estudiar l'efecte de la covid en el nombre de trajectes si **agreguem** les dades per hores, dies de la setmana, setmanes de l'any, etc. \n",
    "\n",
    "### Exercici D\n",
    "\n",
    "+ Escriu una funció genèrica que visualitzi el nombre de trajectes per les agregacions de dades comentades i per cada any. Fes servir gràfics de línies discontínues (una línia per cada any) per veure'n l'evolució i marca amb una rodona o creu allà on està el valor."
   ]
  },
  {
   "cell_type": "code",
   "execution_count": null,
   "metadata": {},
   "outputs": [],
   "source": [
    "def visualize_trips(df, columns, title, xlabel, ylabel):\n",
    "    \"\"\"\n",
    "    Funció que visualitza els viatges per diferents agregacions de dades\n",
    "    \"\"\"\n",
    "    \n",
    "    # AQUÍ EL TEU CODI\n",
    "    \n",
    "    pass"
   ]
  },
  {
   "cell_type": "code",
   "execution_count": null,
   "metadata": {
    "tags": []
   },
   "outputs": [],
   "source": [
    "visualize_trips(df, \n",
    "                ['pickup_hour', 'dropoff_hour'], \n",
    "                title = 'Quantitat de viatges per hora', \n",
    "                xlabel = 'Hora del dia', ylabel = 'Quantitat')"
   ]
  },
  {
   "cell_type": "code",
   "execution_count": null,
   "metadata": {
    "tags": []
   },
   "outputs": [],
   "source": [
    "visualize_trips(df, \n",
    "                ['pickup_day', 'dropoff_day'], \n",
    "                title = 'Quantitat de viatges per dia de la setmana', \n",
    "                xlabel = 'Dia de la setmana', \n",
    "                ylabel = 'Quantitat')"
   ]
  },
  {
   "cell_type": "code",
   "execution_count": null,
   "metadata": {
    "tags": []
   },
   "outputs": [],
   "source": [
    "visualize_trips(df, \n",
    "                ['pickup_week', 'dropoff_week'], \n",
    "                title = 'Quantitat de viatges per setmana de l\\'any', \n",
    "                xlabel = 'Setmana de l\\'any', \n",
    "                ylabel = 'Quanitat')"
   ]
  },
  {
   "cell_type": "markdown",
   "metadata": {},
   "source": [
    "+ Com descriurieu l'efecte de la covid en cada cas (si és que en té)? Quin creieu que és el motiu?"
   ]
  },
  {
   "cell_type": "markdown",
   "metadata": {},
   "source": [
    "> Resposta: "
   ]
  },
  {
   "cell_type": "markdown",
   "metadata": {},
   "source": [
    "## 5. Relació distancia, temps i velocitat\n",
    "\n",
    "A les dades tenim la **distància** que ha recorregut el taxi en cada viatge i de la informació temporal podem extreure també la **durada** d'aquest.\n",
    "\n",
    "Ara explorarem com la covid va afectar les distàncies i les durades dels viatges, i també la velocitat dels taxis. També ens preguntarem si la densitat de trànsit va variar."
   ]
  },
  {
   "cell_type": "markdown",
   "metadata": {},
   "source": [
    "### Exercici E\n",
    "\n",
    "+ Per començar, escriu una funció que visualitzi els **histogrames** de distància i durada per any."
   ]
  },
  {
   "cell_type": "code",
   "execution_count": null,
   "metadata": {},
   "outputs": [],
   "source": [
    "def visualize_histograms(df, column, title, xlabel, ylabel, xlim):\n",
    "    \"\"\"\n",
    "    Funció que crea un histograma a partir de la informació que conté la columna del dataframe\n",
    "    \"\"\"\n",
    "    \n",
    "    # AQUÍ EL TEU CODI\n",
    "    \n",
    "    pass"
   ]
  },
  {
   "cell_type": "code",
   "execution_count": null,
   "metadata": {
    "tags": []
   },
   "outputs": [],
   "source": [
    "visualize_histograms(df, 'trip_distance', title = 'Distància dels viatge per any', \n",
    "                     xlabel = 'Distància (km)', ylabel = 'Quantitat', xlim = (-5, 80))\n",
    "\n",
    "visualize_histograms(df, 'trip_duration', title = 'Durada dels viatges per any', \n",
    "                     xlabel = 'Durada (h)', ylabel = 'Quantitat', xlim = (-1, 25) )\n",
    "\n",
    "visualize_histograms(df, 'speed', title = 'Velocitat dels viatge per any', \n",
    "                     xlabel = 'Velocitat (Km/h)', ylabel = 'Quanitat', xlim = (-1, 25) )"
   ]
  },
  {
   "cell_type": "markdown",
   "metadata": {},
   "source": [
    "* Com creieu que la covid va afectar les distàncies i durades dels viatges?\n",
    "\n",
    "> Resposta:\n",
    "\n",
    "* I a la velocitat dels taxis?\n",
    "\n",
    "> Resposta:"
   ]
  },
  {
   "cell_type": "markdown",
   "metadata": {},
   "source": [
    "## 6. Visualització de les localitzacions dels viatges"
   ]
  },
  {
   "cell_type": "code",
   "execution_count": null,
   "metadata": {},
   "outputs": [],
   "source": [
    "column_names = df.columns.tolist()\n",
    "print(column_names)"
   ]
  },
  {
   "cell_type": "markdown",
   "metadata": {},
   "source": [
    "Només tenim la ID d'una localització, per tant, necessitem aconseguir la latitud i la longitud.\n",
    "\n",
    "La mateixa pàgina dels taxis ens dóna el fitxer *taxi_zones.zip*, però primer cal que convertim les dades de coordenades amb format WGS84.\n",
    "\n",
    "Podem utilitzar aquesta web: https://mygeodata.cloud/"
   ]
  },
  {
   "cell_type": "code",
   "execution_count": null,
   "metadata": {},
   "outputs": [],
   "source": [
    "from utils import get_lat_lon, draw_region_map, draw_zone_map"
   ]
  },
  {
   "cell_type": "code",
   "execution_count": null,
   "metadata": {
    "tags": []
   },
   "outputs": [],
   "source": [
    "sf = shapefile.Reader('data/geodata/taxi_zones.shp')\n",
    "\n",
    "fields_name = [field[0] for field in sf.fields[1:]]\n",
    "shp_dic = dict(zip(fields_name, list(range(len(fields_name)))))\n",
    "attributes = sf.records()\n",
    "shp_attr = [dict(zip(fields_name, attr)) for attr in attributes]"
   ]
  },
  {
   "cell_type": "code",
   "execution_count": null,
   "metadata": {},
   "outputs": [],
   "source": [
    "df_loc = pd.DataFrame(shp_attr).join(get_lat_lon(sf, shp_dic).set_index(\"LocationID\"), on=\"LocationID\")\n",
    "df_loc.head()"
   ]
  },
  {
   "cell_type": "code",
   "execution_count": null,
   "metadata": {
    "tags": []
   },
   "outputs": [],
   "source": [
    "fig, ax = plt.subplots(nrows=1, ncols=2, figsize=(15,8))\n",
    "ax = plt.subplot(1, 2, 1)\n",
    "ax.set_title(\"Boroughs in NYC\")\n",
    "draw_region_map(ax, sf, shp_dic)\n",
    "ax = plt.subplot(1, 2, 2)\n",
    "ax.set_title(\"Zones in NYC\")\n",
    "draw_zone_map(ax, sf, shp_dic)"
   ]
  },
  {
   "cell_type": "markdown",
   "metadata": {},
   "source": [
    "### Exercici F \n",
    "\n",
    "+ Ara teniu dos dataframe que necessitem unir. Utilitza la funció *merge* de Pandas per crear un nou dataframe (conserva el dataframe `df`), anomenat `merge`, que contingui la longitud i latitud (del punt de recollida i del punt de destí) a cada fila. "
   ]
  },
  {
   "cell_type": "code",
   "execution_count": null,
   "metadata": {},
   "outputs": [],
   "source": [
    "# AQUÍ EL TEU CODI\n",
    "\n",
    "pass"
   ]
  },
  {
   "cell_type": "code",
   "execution_count": null,
   "metadata": {},
   "outputs": [],
   "source": [
    "merge.shape"
   ]
  },
  {
   "cell_type": "code",
   "execution_count": null,
   "metadata": {},
   "outputs": [],
   "source": [
    "merge.head()"
   ]
  },
  {
   "cell_type": "markdown",
   "metadata": {},
   "source": [
    "## 7. Quines zones de NY tenen més recollides i quines zones tenen més arribades?\n",
    "\n",
    "En aquest apartat volem conèixer i visualitzar les zones on els taxis són més utilitzats.\n",
    "\n",
    "El primer pas és ordenar i guardar en una variable els llocs més comuns en la recollida i el destí.\n",
    "\n",
    "### Exercici G\n",
    "+  Escriu una funció `show_top_n` que imprimeix els 5 llocs més freqüents de recollida i els 5 llocs més freqüents d'arribada, per cada any."
   ]
  },
  {
   "cell_type": "code",
   "execution_count": null,
   "metadata": {},
   "outputs": [],
   "source": [
    "n_top = 5\n",
    "def show_top_n(df, column, df_loc, n_top = n_top):\n",
    "    \"\"\"\n",
    "    Funció que mostra els llocs més usuals per any\n",
    "    \"\"\"\n",
    "    # AQUÍ EL TEU CODI\n",
    "    pass"
   ]
  },
  {
   "cell_type": "code",
   "execution_count": null,
   "metadata": {},
   "outputs": [],
   "source": [
    "show_top_n(top_pu, 'PULocationID', df_loc)"
   ]
  },
  {
   "cell_type": "code",
   "execution_count": null,
   "metadata": {},
   "outputs": [],
   "source": [
    "show_top_n(top_do, 'DOLocationID', df_loc)"
   ]
  },
  {
   "cell_type": "markdown",
   "metadata": {},
   "source": [
    "Visualitzem amb un mapa de calor quines són les zones més recurrents."
   ]
  },
  {
   "cell_type": "code",
   "execution_count": null,
   "metadata": {},
   "outputs": [],
   "source": [
    "for year in YEARS:\n",
    "    \n",
    "    PUcount = {k:v for k, v in top_do[top_do.year == year][['DOLocationID', 'trip_distance']].values}\n",
    "\n",
    "    fig, ax = plt.subplots(nrows=1, ncols=2, figsize=(12,5))\n",
    "    ax = plt.subplot(1, 2, 1)\n",
    "    ax.set_title(f\"Zones with most pickups - {year}\")\n",
    "    draw_zone_map(ax, sf, shp_dic, heat=PUcount, text=list(PUcount.keys())[:3])\n",
    "    ax = plt.subplot(1, 2, 2)\n",
    "    ax.set_title(f\"Zones with most drop-offs - {year}\")\n",
    "    draw_zone_map(ax, sf, shp_dic, heat=PUcount, text=list(PUcount.keys())[:3])"
   ]
  },
  {
   "cell_type": "markdown",
   "metadata": {},
   "source": [
    "+ Per què creieu que la zona de Manhattan té més quantitat de viatges?\n",
    "\n",
    "> Resposta: "
   ]
  },
  {
   "cell_type": "markdown",
   "metadata": {},
   "source": [
    "## 8. Hospitals\n",
    "\n",
    "Com ha canviat la destinació dels viatges? Hi ha més viatges a les zones on hi ha grans hospitals?\n",
    "\n",
    "A la següent cel·la us donem la creació manual d'un DataFrame amb la localització més important dels hospitals de Nova York."
   ]
  },
  {
   "cell_type": "code",
   "execution_count": null,
   "metadata": {},
   "outputs": [],
   "source": [
    "hospitals = [('New York’s Presbyterian Lower Manhattan Hospital, NYC, NY, USA', '40.710255', '-74.005058'),\n",
    "('Manhattan Gastroenterology, NYC, NY, USA', '40.778259', '-73.958092'),\n",
    "('Stem Cell Therapy Hospital, NYC, NY, USA', '40.601517', '-73.961067'),\n",
    "('Park Avenue Smiles, Yonkers, NYC, NY, USA', '40.945873', '-73.890671'),\n",
    "('Cosmetic Dentistry Center, NYC, NY, USA', '40.629234', '-74.026077'),\n",
    "('Envy Smile Dental Spa, Brooklyn, NYC, NY, USA', '40.607059', '-73.960144'),\n",
    "('VIVA EVE, Forest Hills, NYC, NY, USA', '40.734291', '-73.849434'),\n",
    "('Forest Hills Medical Services, Queens, NYC, NY, USA', '40.734310', '-73.849510'),\n",
    "('Professional Gynecological Services, Brooklyn, NY, NY, USA', '40.689747', '-73.982346'),\n",
    "('Manhattan Womens Health & Wellness, New York, NY, USA', '40.741997', '-73.986107'),\n",
    "('Brooklyn Abortion Clinic, Brooklyn, NY, New York, USA', '40.689743', '-73.982368'),\n",
    "('Brooklyn GYN Place, Brooklyn, NY, USA', '40.692696', '-73.993584'),\n",
    "('Americas Holistic Doctor, NYC, NY, USA', '40.742531', '-73.985489'),\n",
    "('NJS Physical Medicine & Rehabilitation, Brooklyn, NY, USA', '40.641621', '-73.956734'),\n",
    "('DHD Medical, Brooklyn New York, USA', '40.625568', '-73.918320'),\n",
    "('Workers Compensation Doctor, New York, NY, USA', '40.652225', '-74.006104'),]\n",
    "\n",
    "hospitals = pd.DataFrame(hospitals, columns = ['Place Name', 'Latitude', 'Longitude'])\n",
    "hospitals['Latitude'] = hospitals['Latitude'].astype(float)\n",
    "hospitals['Longitude'] = hospitals['Longitude'].astype(float)\n",
    "hospitals.head()"
   ]
  },
  {
   "cell_type": "markdown",
   "metadata": {},
   "source": [
    "### Exercici H\n",
    "\n",
    "+ Utilitza la latitud i longitud de cada hospital i la de les zones del dataframe *merge* per veure la relació entre la distribució dels hospitals i la dels viatges. Per fer-ho utilitza els gràfics de dispersió. Recorda que s'entendrà millor si els punts són transparents (paràmetre *alpha*).\n",
    "\n",
    "+ Després repeteix el mateix gràfic però separat per any. "
   ]
  },
  {
   "cell_type": "code",
   "execution_count": null,
   "metadata": {},
   "outputs": [],
   "source": [
    "def scatter_locations(merge, hospitals):\n",
    "    \"\"\"Funció que mostra la distribució dels hospitals i les destinacions dels taxis\"\"\"\n",
    "    # AQUÍ EL TEU CODI\n",
    "    pass"
   ]
  },
  {
   "cell_type": "code",
   "execution_count": null,
   "metadata": {},
   "outputs": [],
   "source": [
    "scatter_locations(merge, hospitals)"
   ]
  },
  {
   "cell_type": "code",
   "execution_count": null,
   "metadata": {},
   "outputs": [],
   "source": [
    "def scatter_locations_per_year(merge, hospitals):\n",
    "    \"\"\"Funció que mostra la distribució dels hospitals i les destinacions dels taxis\"\"\"\n",
    "    # AQUÍ EL TEU CODI\n",
    "    pass"
   ]
  },
  {
   "cell_type": "code",
   "execution_count": null,
   "metadata": {},
   "outputs": [],
   "source": [
    "scatter_locations_per_year(merge, hospitals)"
   ]
  },
  {
   "cell_type": "markdown",
   "metadata": {},
   "source": [
    "* Veus algun comportament interessant per comentar?\n",
    "> Resposta: "
   ]
  }
 ],
 "metadata": {
  "kernelspec": {
   "display_name": "Python 3",
   "language": "python",
   "name": "python3"
  },
  "language_info": {
   "codemirror_mode": {
    "name": "ipython",
    "version": 3
   },
   "file_extension": ".py",
   "mimetype": "text/x-python",
   "name": "python",
   "nbconvert_exporter": "python",
   "pygments_lexer": "ipython3",
   "version": "3.7.4"
  }
 },
 "nbformat": 4,
 "nbformat_minor": 5
}

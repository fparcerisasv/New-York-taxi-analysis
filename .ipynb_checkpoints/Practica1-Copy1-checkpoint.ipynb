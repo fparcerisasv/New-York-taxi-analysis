{
 "cells": [
  {
   "cell_type": "markdown",
   "metadata": {},
   "source": [
    "# Pràctica 1: \n",
    "\n",
    "Nom dels alumnes del grup:\n",
    "\n",
    "> Recordeu que, tot i que la pràctica es fa en parelles, els dos membres del grup han de lliurar al campus virtual aquest notebook.\n",
    "\n",
    "# Anàlisi exploratòria de dades (EDA) & ús d'eines avançades de Python\n",
    "\n",
    "L'**anàlisi exploratòria de dades** (EDA, per les seves sigles en anglès, *Exploratory Data Analysis*) és un procés crític en la ciència de les dades que implica **explorar, resumir i visualitzar** les dades per a entendre les seves característiques principals. L'objectiu principal de l'EDA és revelar patrons, tendències i anomalies a partir de les dades, sense fer suposicions massa específiques o construir models massa complexes.\n",
    "\n",
    "Aquí teniu alguns dels elements més importants de l'anàlisi exploratòria de dades:\n",
    "\n",
    "+ **Visualització de dades**: A través de gràfics i gràfiques, es representen les dades per a veure distribucions, tendències i relacions. Això pot incloure histogrames, gràfics de barres, diagrames de dispersió, gràfics de caixa, etc.\n",
    "\n",
    "+ **Estadístiques descriptives**: Es calculen estadístiques com la mitjana, la mediana, la desviació estàndard i altres mesures resum per a descriure les característiques bàsiques de les variables.\n",
    "\n",
    "+ **Detecció d'anomalies**: Es busca identificar valors atípics o anòmals que puguin indicar errors o situacions especials en les dades.\n",
    "\n",
    "+ **Imputació de dades faltants**: Si les dades tenen buits o valors faltants, es pot decidir com omplir aquests buits de manera adequada.\n",
    "\n",
    "+ **Exploració de relacions**: Es busquen correlacions i relacions entre les diferents variables de les dades per a identificar connexions i dependencies.\n",
    "\n",
    "+ **Agrupació de dades**: Es divideixen les dades en subconjunts basats en certes característiques per a analitzar-les més detingudament.\n",
    "\n",
    "+ **Transformació de dades**: Es poden aplicar transformacions a les dades per a fer-les més adequades per a anàlisi posterior, com l'estandardització o la normalització.\n",
    "\n",
    "* **Selecció de característiques**: Si es treballa amb un conjunt de dades amb moltes variables, es pot realitzar una selecció de característiques per a reduir la complexitat i millorar l'eficiència de l'anàlisi.\n",
    "\n",
    "Python ofereix una àmplia gamma d'eines i biblioteques per a realitzar l'anàlisi exploratòria de dades (EDA). Algunes de les biblioteques més populars i útils són les següents:\n",
    "\n",
    "+ **NumPy**: NumPy és una biblioteca fonamental per a la computació científica en Python. Proporciona funcionalitats per a treballar amb matrius i vectors, la qual cosa és essencial per a l'anàlisi de dades.\n",
    "\n",
    "+ **Pandas**: Pandas és una biblioteca molt popular per a l'anàlisi de dades que ofereix estructures de dades com DataFrame i Series, que faciliten la manipulació i anàlisi de dades tabulars. Podeu utilitzar Pandas per a carregar, netejar i explorar les dades.\n",
    "\n",
    "+ **Matplotlib**: Matplotlib és una biblioteca per a la visualització de dades que us permet crear una àmplia gamma de gràfics i gràfiques personalitzades. És ideal per a crear histogrames, diagrames de dispersió, gràfics de barres i moltes altres representacions gràfiques.\n",
    "\n",
    "+ **Scipy**: SciPy és una biblioteca que amplia les funcionalitats de NumPy i proporciona eines addicionals per a l'anàlisi científic, inclosos estadístics i mètodes d'optimització.\n",
    "\n",
    "+ **Scikit-learn**: Si esteu interessats en l'aprenentatge automàtic, Scikit-learn és una biblioteca essencial que ofereix eines per a la classificació, regressió, agrupació i altres tasques d'aprenentatge automàtic. També conté eines per a la selecció de característiques.\n",
    "\n",
    "+ **Seaborn**: Seaborn és una biblioteca de visualització de dades basada en Matplotlib que simplifica la creació de gràfics estadístics atractius i informatius. És especialment útil per a la visualització de relacions i tendències en les dades."
   ]
  },
  {
   "cell_type": "markdown",
   "metadata": {},
   "source": [
    "## 0. Objectiu de la pràctica\n",
    "\n",
    "L'**objectiu d'aquesta pràctica** és aprendre com fer una exploració sobre un conjunt de dades real, que al final ens permeti obtenir la resposta a diverses preguntes. \n",
    "\n",
    "En aquesta pràctica explorarem les dades dels trajectes dels **taxis grocs de la ciutat de Nova York** durant varios anys.\n",
    "\n",
    "En finalitzar aquesta pràctica, haureu de ser capaços de respondre la pregunta següent de forma detallada:\n",
    "\n",
    "- **Com va afectar la pandèmia de la Covid l'ús dels taxis a Nova York?**\n",
    "\n",
    "Pere respondre aquesta pregunta tant genèrica, ho descomposarem en preguntes més concretes:\n",
    "\n",
    "- Quina distribució d'encàrrecs segueixen els taxis i quina distància / durada tenen?\n",
    "- Quines són les zones on m'és / menys taxis s'agafen? \n",
    "- Quins horaris són els més usuals?\n",
    "- Quins dies de la setmana i del mes s'utilitzen més? \n",
    "- Etc."
   ]
  },
  {
   "cell_type": "markdown",
   "metadata": {},
   "source": [
    "### Instal·lació i importació de les llibreries necessàries\n",
    "\n",
    "A més a més de les llibreries comentades, farem servir aquests mòduls de Python:\n",
    "\n",
    "+ **PyArrow**: PyArrow és una biblioteca de Python que es fa servir per a l'intercanvi eficient de dades entre Python i altres llenguatges de programació, especialment C++ i Java. Aquesta biblioteca es desenvolupa com a part del projecte Apache Arrow, que és un projecte de codi obert dissenyat per a millorar el rendiment i la interoperabilitat de l'analítica de dades i les tecnologies relacionades. PyArrow permet la creació i la manipulació eficient de dades en forma de taules i columnes. PyArrow ofereix suport per a l'estructura de dades coneguda com a \"Table\", que és similar a una taula o un quadern de dades en altres llenguatges. Aquesta estructura de dades facilita l'organització i la manipulació de dades tabulars.\n",
    "+ **pyshp** és una biblioteca de Python que es fa servir per a llegir i escriure arxius en el format de fitxers de forma (shapefiles). El format de fitxers de forma és un format estàndard en geoinformàtica i geodèsia per a emmagatzemar i intercanviar dades geoespacials, com ara punts, línies i polígons, juntament amb les seves propietats associades.\n",
    "+ **shapely** és una biblioteca de Python que es fa servir per a realitzar operacions geomètriques i anàlisi espacial amb objectes geoespacials. Aquesta biblioteca és especialment útil per a treballar amb geometria plana, com ara punts, línies i polígons, i permet realitzar una àmplia gamma d'operacions, com ara interseccions, unions, àrees, longituds i moltes altres.\n",
    "+ **descartes** és una biblioteca de tercers que es fa servir per a la visualització de gràfics geoespacials."
   ]
  },
  {
   "cell_type": "code",
   "execution_count": 1,
   "metadata": {
    "tags": []
   },
   "outputs": [],
   "source": [
    "%%capture\n",
    "! pip install pyarrow\n",
    "! pip install pyshp==2.1.3\n",
    "! pip install shapely==1.7.1\n",
    "! pip install pandas==1.5.3\n",
    "! pip install numpy==1.22\n",
    "! pip install descartes==1.1.0"
   ]
  },
  {
   "cell_type": "code",
   "execution_count": 2,
   "metadata": {},
   "outputs": [],
   "source": [
    "import pandas as pd\n",
    "import numpy as np\n",
    "import urllib.request\n",
    "import zipfile\n",
    "import os\n",
    "from tqdm.notebook import tqdm\n",
    "import pyarrow.parquet as pq"
   ]
  },
  {
   "cell_type": "code",
   "execution_count": 5,
   "metadata": {},
   "outputs": [],
   "source": [
    "import shapefile\n",
    "from shapely.geometry import Polygon\n",
    "from descartes.patch import PolygonPatch\n",
    "import seaborn as sns\n",
    "import matplotlib as mpl\n",
    "import matplotlib.pyplot as plt\n",
    "%matplotlib inline"
   ]
  },
  {
   "cell_type": "markdown",
   "metadata": {},
   "source": [
    "## 1. Descàrrega de dades"
   ]
  },
  {
   "cell_type": "code",
   "execution_count": 3,
   "metadata": {},
   "outputs": [],
   "source": [
    "# Variables globals: els anys que estudiarem\n",
    "YEARS = [2019, 2020, 2021]"
   ]
  },
  {
   "cell_type": "code",
   "execution_count": 4,
   "metadata": {
    "tags": []
   },
   "outputs": [
    {
     "data": {
      "application/vnd.jupyter.widget-view+json": {
       "model_id": "4007541949154650845d70050617a5b1",
       "version_major": 2,
       "version_minor": 0
      },
      "text/plain": [
       "HBox(children=(IntProgress(value=0, max=3), HTML(value='')))"
      ]
     },
     "metadata": {},
     "output_type": "display_data"
    },
    {
     "name": "stdout",
     "output_type": "stream",
     "text": [
      "\n"
     ]
    }
   ],
   "source": [
    "# Descàrrega de les dades: Trip Record Data \n",
    "# https://www1.nyc.gov/site/tlc/about/tlc-trip-record-data.page\n",
    "\n",
    "for year in tqdm(YEARS):\n",
    "    if not os.path.exists(f'data/{year}'):\n",
    "        os.makedirs(f'data/{year}', exist_ok=True)\n",
    "        for month in tqdm(range(1, 13)): \n",
    "            urllib.request.urlretrieve(f'https://d37ci6vzurychx.cloudfront.net/trip-data/yellow_tripdata_{year}-{month:02d}.parquet', f'data/{year}/{month:02d}.parquet')"
   ]
  },
  {
   "cell_type": "markdown",
   "metadata": {},
   "source": [
    "## 2. Neteja de dades\n",
    "\n",
    "Per tal de tenir unes dades netes i útils, eliminarem totes aquells trajectes (files del conjunt de dades)  que continguin informació *corrupte*. Per exemple, com a mínim cal verificar que no es dóna cap d'aquests casos:\n",
    "\n",
    "- Presència de *missing data* (camps/columnes de les dades sense valor).\n",
    "- L'hora de recollida és posterior a la finalització del trajecte.\n",
    "- Les dades s'importen per mes i any. Són coherents els valors que contenen les dades?\n",
    "- Hi ha viatges amb un nombre absurd de passatgers?\n",
    "- Hi ha viatges massa llargs o massa curts?\n",
    "- Hi ha pagaments negatius?\n",
    "- Etc.\n",
    "\n",
    "A més a més, podem considerar aspectes concrets d'aquestes dades:\n",
    "\n",
    "+ Hi pot haver viatges impossibles segons la normativa: \n",
    "    + [Més viatgers que els permesos](https://www1.nyc.gov/site/tlc/passengers/passenger-frequently-asked-questions.page) o [velocitats il·legals](https://www.speed-limits.com/newyork).\n",
    "    + [Limit de persones permeses a un yellow taxicab](https://drive.google.com/file/d/1eiV7wdm7WrkRlM9bmekCRM6GY3Yq6GI2/view?usp=sharing)"
   ]
  },
  {
   "cell_type": "markdown",
   "metadata": {},
   "source": [
    "De totes les columnes que tenen les dades, només cal fer servir les següents per contestar les preguntes:\n",
    "\n",
    "- *tpep_pickup_datetime*: The date and time when the meter was engaged.\n",
    "- *tpep_dropoff_datetime*: The date and time when the meter was disengaged. \n",
    "- *Passenger_count*: The number of passengers in the vehicle. \n",
    "- *Trip_distance*: The elapsed trip distance in miles reported by the taximeter.\n",
    "- *PULocationID*: TLC Taxi Zone in which the taximeter was engaged\n",
    "- *DOLocationID*: TLC Taxi Zone in which the taximeter was disengaged\n",
    "- *Payment_type*: A numeric code signifying how the passenger paid for the trip. \n",
    "    - 1= Credit card\n",
    "    - 2= Cash\n",
    "    - 3= No charge\n",
    "    - 4= Dispute\n",
    "    - 5= Unknown\n",
    "    - 6= Voided trip\n",
    "- *Fare_amount*: The time-and-distance fare calculated by the meter.\n",
    "- *Total_amount*: The total amount charged to passengers."
   ]
  },
  {
   "cell_type": "code",
   "execution_count": 5,
   "metadata": {},
   "outputs": [
    {
     "data": {
      "text/plain": [
       "(239, 9)"
      ]
     },
     "execution_count": 5,
     "metadata": {},
     "output_type": "execute_result"
    }
   ],
   "source": [
    "# carreguem les dades a un dataframe de pandas\n",
    "# Per agilitzar els càlculs i reduir el temps de càlcul durant el desenvolupament, \n",
    "# podeu treballarem amb una mostra uniforme de les dades (1 fila de cada 1000).\n",
    "\n",
    "def load_table(year, month, sampling = 1000):\n",
    "    \"\"\"\n",
    "    Funció que llegeix les dades descarregades i les converteix a un DataFrame\n",
    "    \"\"\"\n",
    "    data = pq.read_table(f'data/{year}/{str(month).zfill(2)}.parquet').to_pandas()\n",
    "    required_data = ['tpep_pickup_datetime', \n",
    "                 'tpep_dropoff_datetime', \n",
    "                 'passenger_count', \n",
    "                 'trip_distance', \n",
    "                 'PULocationID', \n",
    "                 'DOLocationID', \n",
    "                 'payment_type', \n",
    "                 'fare_amount', \n",
    "                 'total_amount']\n",
    "    return data[required_data][::sampling]\n",
    "\n",
    "# explorem una mica les dades\n",
    "test = load_table(2020, 4)\n",
    "test.shape"
   ]
  },
  {
   "cell_type": "code",
   "execution_count": 6,
   "metadata": {},
   "outputs": [
    {
     "data": {
      "text/html": [
       "<div>\n",
       "<style scoped>\n",
       "    .dataframe tbody tr th:only-of-type {\n",
       "        vertical-align: middle;\n",
       "    }\n",
       "\n",
       "    .dataframe tbody tr th {\n",
       "        vertical-align: top;\n",
       "    }\n",
       "\n",
       "    .dataframe thead th {\n",
       "        text-align: right;\n",
       "    }\n",
       "</style>\n",
       "<table border=\"1\" class=\"dataframe\">\n",
       "  <thead>\n",
       "    <tr style=\"text-align: right;\">\n",
       "      <th></th>\n",
       "      <th>tpep_pickup_datetime</th>\n",
       "      <th>tpep_dropoff_datetime</th>\n",
       "      <th>passenger_count</th>\n",
       "      <th>trip_distance</th>\n",
       "      <th>PULocationID</th>\n",
       "      <th>DOLocationID</th>\n",
       "      <th>payment_type</th>\n",
       "      <th>fare_amount</th>\n",
       "      <th>total_amount</th>\n",
       "    </tr>\n",
       "  </thead>\n",
       "  <tbody>\n",
       "    <tr>\n",
       "      <td>2954000</td>\n",
       "      <td>2021-09-28 16:09:28</td>\n",
       "      <td>2021-09-28 16:09:58</td>\n",
       "      <td>NaN</td>\n",
       "      <td>14.77</td>\n",
       "      <td>265</td>\n",
       "      <td>250</td>\n",
       "      <td>0</td>\n",
       "      <td>86.20</td>\n",
       "      <td>87.00</td>\n",
       "    </tr>\n",
       "    <tr>\n",
       "      <td>2955000</td>\n",
       "      <td>2021-09-28 21:25:55</td>\n",
       "      <td>2021-09-28 21:53:53</td>\n",
       "      <td>NaN</td>\n",
       "      <td>4.05</td>\n",
       "      <td>188</td>\n",
       "      <td>234</td>\n",
       "      <td>0</td>\n",
       "      <td>36.40</td>\n",
       "      <td>46.50</td>\n",
       "    </tr>\n",
       "    <tr>\n",
       "      <td>2956000</td>\n",
       "      <td>2021-09-29 08:51:00</td>\n",
       "      <td>2021-09-29 09:33:00</td>\n",
       "      <td>NaN</td>\n",
       "      <td>8.91</td>\n",
       "      <td>157</td>\n",
       "      <td>261</td>\n",
       "      <td>0</td>\n",
       "      <td>31.63</td>\n",
       "      <td>35.18</td>\n",
       "    </tr>\n",
       "    <tr>\n",
       "      <td>2957000</td>\n",
       "      <td>2021-09-29 13:28:56</td>\n",
       "      <td>2021-09-29 13:38:08</td>\n",
       "      <td>NaN</td>\n",
       "      <td>1.30</td>\n",
       "      <td>141</td>\n",
       "      <td>262</td>\n",
       "      <td>0</td>\n",
       "      <td>7.50</td>\n",
       "      <td>12.42</td>\n",
       "    </tr>\n",
       "    <tr>\n",
       "      <td>2958000</td>\n",
       "      <td>2021-09-29 17:09:10</td>\n",
       "      <td>2021-09-29 18:09:15</td>\n",
       "      <td>NaN</td>\n",
       "      <td>8.21</td>\n",
       "      <td>265</td>\n",
       "      <td>232</td>\n",
       "      <td>0</td>\n",
       "      <td>44.88</td>\n",
       "      <td>45.68</td>\n",
       "    </tr>\n",
       "    <tr>\n",
       "      <td>2959000</td>\n",
       "      <td>2021-09-29 22:28:00</td>\n",
       "      <td>2021-09-29 22:45:00</td>\n",
       "      <td>NaN</td>\n",
       "      <td>7.21</td>\n",
       "      <td>142</td>\n",
       "      <td>243</td>\n",
       "      <td>0</td>\n",
       "      <td>26.76</td>\n",
       "      <td>36.58</td>\n",
       "    </tr>\n",
       "    <tr>\n",
       "      <td>2960000</td>\n",
       "      <td>2021-09-30 08:00:00</td>\n",
       "      <td>2021-09-30 08:12:00</td>\n",
       "      <td>NaN</td>\n",
       "      <td>1.68</td>\n",
       "      <td>143</td>\n",
       "      <td>237</td>\n",
       "      <td>0</td>\n",
       "      <td>13.20</td>\n",
       "      <td>20.00</td>\n",
       "    </tr>\n",
       "    <tr>\n",
       "      <td>2961000</td>\n",
       "      <td>2021-09-30 12:25:05</td>\n",
       "      <td>2021-09-30 12:32:20</td>\n",
       "      <td>NaN</td>\n",
       "      <td>1.29</td>\n",
       "      <td>238</td>\n",
       "      <td>142</td>\n",
       "      <td>0</td>\n",
       "      <td>13.20</td>\n",
       "      <td>20.00</td>\n",
       "    </tr>\n",
       "    <tr>\n",
       "      <td>2962000</td>\n",
       "      <td>2021-09-30 16:48:02</td>\n",
       "      <td>2021-09-30 17:54:00</td>\n",
       "      <td>NaN</td>\n",
       "      <td>8.54</td>\n",
       "      <td>170</td>\n",
       "      <td>95</td>\n",
       "      <td>0</td>\n",
       "      <td>32.90</td>\n",
       "      <td>43.00</td>\n",
       "    </tr>\n",
       "    <tr>\n",
       "      <td>2963000</td>\n",
       "      <td>2021-09-30 19:17:00</td>\n",
       "      <td>2021-09-30 20:02:55</td>\n",
       "      <td>NaN</td>\n",
       "      <td>10.90</td>\n",
       "      <td>138</td>\n",
       "      <td>181</td>\n",
       "      <td>0</td>\n",
       "      <td>37.50</td>\n",
       "      <td>48.66</td>\n",
       "    </tr>\n",
       "  </tbody>\n",
       "</table>\n",
       "</div>"
      ],
      "text/plain": [
       "        tpep_pickup_datetime tpep_dropoff_datetime  passenger_count  \\\n",
       "2954000  2021-09-28 16:09:28   2021-09-28 16:09:58              NaN   \n",
       "2955000  2021-09-28 21:25:55   2021-09-28 21:53:53              NaN   \n",
       "2956000  2021-09-29 08:51:00   2021-09-29 09:33:00              NaN   \n",
       "2957000  2021-09-29 13:28:56   2021-09-29 13:38:08              NaN   \n",
       "2958000  2021-09-29 17:09:10   2021-09-29 18:09:15              NaN   \n",
       "2959000  2021-09-29 22:28:00   2021-09-29 22:45:00              NaN   \n",
       "2960000  2021-09-30 08:00:00   2021-09-30 08:12:00              NaN   \n",
       "2961000  2021-09-30 12:25:05   2021-09-30 12:32:20              NaN   \n",
       "2962000  2021-09-30 16:48:02   2021-09-30 17:54:00              NaN   \n",
       "2963000  2021-09-30 19:17:00   2021-09-30 20:02:55              NaN   \n",
       "\n",
       "         trip_distance  PULocationID  DOLocationID  payment_type  fare_amount  \\\n",
       "2954000          14.77           265           250             0        86.20   \n",
       "2955000           4.05           188           234             0        36.40   \n",
       "2956000           8.91           157           261             0        31.63   \n",
       "2957000           1.30           141           262             0         7.50   \n",
       "2958000           8.21           265           232             0        44.88   \n",
       "2959000           7.21           142           243             0        26.76   \n",
       "2960000           1.68           143           237             0        13.20   \n",
       "2961000           1.29           238           142             0        13.20   \n",
       "2962000           8.54           170            95             0        32.90   \n",
       "2963000          10.90           138           181             0        37.50   \n",
       "\n",
       "         total_amount  \n",
       "2954000         87.00  \n",
       "2955000         46.50  \n",
       "2956000         35.18  \n",
       "2957000         12.42  \n",
       "2958000         45.68  \n",
       "2959000         36.58  \n",
       "2960000         20.00  \n",
       "2961000         20.00  \n",
       "2962000         43.00  \n",
       "2963000         48.66  "
      ]
     },
     "execution_count": 6,
     "metadata": {},
     "output_type": "execute_result"
    }
   ],
   "source": [
    "test = load_table(2021, 9)\n",
    "test.tail(10)"
   ]
  },
  {
   "cell_type": "markdown",
   "metadata": {},
   "source": [
    "###  Exercici A\n",
    "\n",
    "+ Un cop llegides les dades a una taula de Pandas, implementa una funció que faci el procés de neteja que consideris necessari. Per determinar què és necessari, explora els valors que apareixen a cada columna del dataframe de Pandas i decideix què cal fer.\n",
    "\n",
    "> *Nota: Les columnes `Datatime` són un subtipus de dades de Pandas anomenades `datetime`.  Busca com tractar de forma eficient aquest tipus de dades en Pandas.*"
   ]
  },
  {
   "cell_type": "code",
   "execution_count": 28,
   "metadata": {
    "tags": []
   },
   "outputs": [],
   "source": [
    "def clean_data(data, year, month):\n",
    "    \"\"\"\n",
    "    Funció que neteja (una mostra de) les dades per un mes donat.\n",
    "    \"\"\" \n",
    "    # AQUÍ EL TEU CODI\n",
    "    #data = load_table(year,month)\n",
    "    \n",
    "    #Eliminem qualsevol fila amb missing data\n",
    "    data.dropna(how='any', inplace=True) \n",
    "    #Eliminem files amb recollida posterior a la finalizació\n",
    "    data.drop(data[data.tpep_dropoff_datetime<data.tpep_pickup_datetime].index, inplace=True)\n",
    "    #Eliminem files amb dates incoherents (un trajecte pertany a un mes si es finalizta en aquell mes)\n",
    "    data.drop(data[data.tpep_dropoff_datetime.dt.month!=month].index, inplace=True) #Mes diferent al mes donat\n",
    "    data.drop(data[data.tpep_dropoff_datetime.dt.year!=year].index, inplace=True) #Any diferent a l'any donat\n",
    "    #Eliminem files amb nombres absurds de passatgers (que no estiguin entre 1 i 5, d'acord amb la normativa)\n",
    "    data.drop(data[(data.passenger_count<1) | (data.passenger_count>5)].index, inplace=True)\n",
    "    #Eliminem files corresponents a viatges massa llargs o massa curts (considerem que fora del rang 0.1 - 100 milles)\n",
    "    data.drop(data[(data.trip_distance <0.1) | (data.trip_distance >100)].index, inplace=True)\n",
    "    #tambe comprovem que no siguin massa llargs en funció del temps (10 hores)\n",
    "    data.drop(data[(data.tpep_dropoff_datetime-data.tpep_pickup_datetime).astype('timedelta64[h]')>10].index, inplace =True)\n",
    "    #Eliminem files amb pagaments negatius\n",
    "    data.drop(data[(data.total_amount<0) | (data.fare_amount<0)].index, inplace=True)\n",
    "    #Eliminem files amb velocitat mitjana il·legal (65 mph com a màxim, d'acord amb https://www.speed-limits.com/newyork)\n",
    "    data.drop(data[(data.trip_distance/(data.tpep_dropoff_datetime-data.tpep_pickup_datetime).astype('timedelta64[h]'))>65].index, inplace=True)\n",
    "    return data"
   ]
  },
  {
   "cell_type": "code",
   "execution_count": 29,
   "metadata": {},
   "outputs": [
    {
     "data": {
      "text/html": [
       "<div>\n",
       "<style scoped>\n",
       "    .dataframe tbody tr th:only-of-type {\n",
       "        vertical-align: middle;\n",
       "    }\n",
       "\n",
       "    .dataframe tbody tr th {\n",
       "        vertical-align: top;\n",
       "    }\n",
       "\n",
       "    .dataframe thead th {\n",
       "        text-align: right;\n",
       "    }\n",
       "</style>\n",
       "<table border=\"1\" class=\"dataframe\">\n",
       "  <thead>\n",
       "    <tr style=\"text-align: right;\">\n",
       "      <th></th>\n",
       "      <th>tpep_pickup_datetime</th>\n",
       "      <th>tpep_dropoff_datetime</th>\n",
       "      <th>passenger_count</th>\n",
       "      <th>trip_distance</th>\n",
       "      <th>PULocationID</th>\n",
       "      <th>DOLocationID</th>\n",
       "      <th>payment_type</th>\n",
       "      <th>fare_amount</th>\n",
       "      <th>total_amount</th>\n",
       "      <th>trip_duration</th>\n",
       "      <th>mean_velocity</th>\n",
       "    </tr>\n",
       "  </thead>\n",
       "  <tbody>\n",
       "    <tr>\n",
       "      <td>720000</td>\n",
       "      <td>2021-09-09 16:12:31</td>\n",
       "      <td>2021-09-09 17:13:20</td>\n",
       "      <td>1.0</td>\n",
       "      <td>35.351362</td>\n",
       "      <td>48</td>\n",
       "      <td>226</td>\n",
       "      <td>1</td>\n",
       "      <td>36.0</td>\n",
       "      <td>52.39</td>\n",
       "      <td>01:00:49</td>\n",
       "      <td>35.351362</td>\n",
       "    </tr>\n",
       "    <tr>\n",
       "      <td>1385000</td>\n",
       "      <td>2021-09-16 14:35:55</td>\n",
       "      <td>2021-09-16 15:46:30</td>\n",
       "      <td>1.0</td>\n",
       "      <td>62.653079</td>\n",
       "      <td>142</td>\n",
       "      <td>181</td>\n",
       "      <td>1</td>\n",
       "      <td>43.0</td>\n",
       "      <td>57.87</td>\n",
       "      <td>01:10:35</td>\n",
       "      <td>62.653079</td>\n",
       "    </tr>\n",
       "    <tr>\n",
       "      <td>1502000</td>\n",
       "      <td>2021-09-17 17:35:31</td>\n",
       "      <td>2021-09-17 18:42:57</td>\n",
       "      <td>1.0</td>\n",
       "      <td>55.274237</td>\n",
       "      <td>230</td>\n",
       "      <td>49</td>\n",
       "      <td>1</td>\n",
       "      <td>42.5</td>\n",
       "      <td>56.16</td>\n",
       "      <td>01:07:26</td>\n",
       "      <td>55.274237</td>\n",
       "    </tr>\n",
       "  </tbody>\n",
       "</table>\n",
       "</div>"
      ],
      "text/plain": [
       "        tpep_pickup_datetime tpep_dropoff_datetime  passenger_count  \\\n",
       "720000   2021-09-09 16:12:31   2021-09-09 17:13:20              1.0   \n",
       "1385000  2021-09-16 14:35:55   2021-09-16 15:46:30              1.0   \n",
       "1502000  2021-09-17 17:35:31   2021-09-17 18:42:57              1.0   \n",
       "\n",
       "         trip_distance  PULocationID  DOLocationID  payment_type  fare_amount  \\\n",
       "720000       35.351362            48           226             1         36.0   \n",
       "1385000      62.653079           142           181             1         43.0   \n",
       "1502000      55.274237           230            49             1         42.5   \n",
       "\n",
       "         total_amount trip_duration  mean_velocity  \n",
       "720000          52.39      01:00:49      35.351362  \n",
       "1385000         57.87      01:10:35      62.653079  \n",
       "1502000         56.16      01:07:26      55.274237  "
      ]
     },
     "execution_count": 29,
     "metadata": {},
     "output_type": "execute_result"
    }
   ],
   "source": [
    "test.shape\n",
    "clean_data(test,2021,9)"
   ]
  },
  {
   "cell_type": "code",
   "execution_count": 30,
   "metadata": {},
   "outputs": [
    {
     "data": {
      "text/plain": [
       "(3, 11)"
      ]
     },
     "execution_count": 30,
     "metadata": {},
     "output_type": "execute_result"
    }
   ],
   "source": [
    "test.tail()\n",
    "test.shape"
   ]
  },
  {
   "cell_type": "markdown",
   "metadata": {},
   "source": [
    "###  Exercici B\n",
    "\n",
    "+ Escriu una funció que transformi la taula original a una nova taula, més adequada per tal de dur a terme l'exploració necessària. Podeu afegir columnes addicionals, precalcular valors, etc.\n",
    "\n",
    "> Per exemple, podem trasnformar les dades per treballar amb les unitats de kilòmetres i hores per a representar les durades, distàncies i velocitats del trajecte. El motiu és, per una banda, que estem familiaritzades amb el Sistema Internacional d'Unitats (d'aquí el canvi de milles a km). I per altra, optar pels km i no pels metres degut a l'ordre de magnitud de les dades."
   ]
  },
  {
   "cell_type": "code",
   "execution_count": 31,
   "metadata": {
    "tags": []
   },
   "outputs": [],
   "source": [
    "def post_processing(data):\n",
    "    \"\"\"\n",
    "    Funció on implementar qualsevol tipus de postprocessament necessari.\n",
    "    \"\"\"\n",
    "    # AQUÍ EL TEU CODI\n",
    "    #Comencem convertint de milles a km\n",
    "    data['trip_distance'] = data['trip_distance']*1.609344\n",
    "    #Afegim una columna per les durades \n",
    "    data['trip_duration'] = data['tpep_dropoff_datetime']-data['tpep_pickup_datetime']\n",
    "    #Afegim una columna per la velocitaten km/h\n",
    "    data['mean_velocity'] = data['trip_distance']/(data['trip_duration']).astype('timedelta64[h]')\n",
    "    return data"
   ]
  },
  {
   "cell_type": "code",
   "execution_count": 32,
   "metadata": {},
   "outputs": [
    {
     "data": {
      "text/html": [
       "<div>\n",
       "<style scoped>\n",
       "    .dataframe tbody tr th:only-of-type {\n",
       "        vertical-align: middle;\n",
       "    }\n",
       "\n",
       "    .dataframe tbody tr th {\n",
       "        vertical-align: top;\n",
       "    }\n",
       "\n",
       "    .dataframe thead th {\n",
       "        text-align: right;\n",
       "    }\n",
       "</style>\n",
       "<table border=\"1\" class=\"dataframe\">\n",
       "  <thead>\n",
       "    <tr style=\"text-align: right;\">\n",
       "      <th></th>\n",
       "      <th>tpep_pickup_datetime</th>\n",
       "      <th>tpep_dropoff_datetime</th>\n",
       "      <th>passenger_count</th>\n",
       "      <th>trip_distance</th>\n",
       "      <th>PULocationID</th>\n",
       "      <th>DOLocationID</th>\n",
       "      <th>payment_type</th>\n",
       "      <th>fare_amount</th>\n",
       "      <th>total_amount</th>\n",
       "      <th>trip_duration</th>\n",
       "      <th>mean_velocity</th>\n",
       "    </tr>\n",
       "  </thead>\n",
       "  <tbody>\n",
       "    <tr>\n",
       "      <td>720000</td>\n",
       "      <td>2021-09-09 16:12:31</td>\n",
       "      <td>2021-09-09 17:13:20</td>\n",
       "      <td>1.0</td>\n",
       "      <td>56.892503</td>\n",
       "      <td>48</td>\n",
       "      <td>226</td>\n",
       "      <td>1</td>\n",
       "      <td>36.0</td>\n",
       "      <td>52.39</td>\n",
       "      <td>01:00:49</td>\n",
       "      <td>56.892503</td>\n",
       "    </tr>\n",
       "    <tr>\n",
       "      <td>1385000</td>\n",
       "      <td>2021-09-16 14:35:55</td>\n",
       "      <td>2021-09-16 15:46:30</td>\n",
       "      <td>1.0</td>\n",
       "      <td>100.830356</td>\n",
       "      <td>142</td>\n",
       "      <td>181</td>\n",
       "      <td>1</td>\n",
       "      <td>43.0</td>\n",
       "      <td>57.87</td>\n",
       "      <td>01:10:35</td>\n",
       "      <td>100.830356</td>\n",
       "    </tr>\n",
       "    <tr>\n",
       "      <td>1502000</td>\n",
       "      <td>2021-09-17 17:35:31</td>\n",
       "      <td>2021-09-17 18:42:57</td>\n",
       "      <td>1.0</td>\n",
       "      <td>88.955261</td>\n",
       "      <td>230</td>\n",
       "      <td>49</td>\n",
       "      <td>1</td>\n",
       "      <td>42.5</td>\n",
       "      <td>56.16</td>\n",
       "      <td>01:07:26</td>\n",
       "      <td>88.955261</td>\n",
       "    </tr>\n",
       "  </tbody>\n",
       "</table>\n",
       "</div>"
      ],
      "text/plain": [
       "        tpep_pickup_datetime tpep_dropoff_datetime  passenger_count  \\\n",
       "720000   2021-09-09 16:12:31   2021-09-09 17:13:20              1.0   \n",
       "1385000  2021-09-16 14:35:55   2021-09-16 15:46:30              1.0   \n",
       "1502000  2021-09-17 17:35:31   2021-09-17 18:42:57              1.0   \n",
       "\n",
       "         trip_distance  PULocationID  DOLocationID  payment_type  fare_amount  \\\n",
       "720000       56.892503            48           226             1         36.0   \n",
       "1385000     100.830356           142           181             1         43.0   \n",
       "1502000      88.955261           230            49             1         42.5   \n",
       "\n",
       "         total_amount trip_duration  mean_velocity  \n",
       "720000          52.39      01:00:49      56.892503  \n",
       "1385000         57.87      01:10:35     100.830356  \n",
       "1502000         56.16      01:07:26      88.955261  "
      ]
     },
     "execution_count": 32,
     "metadata": {},
     "output_type": "execute_result"
    }
   ],
   "source": [
    "post_processing(test)\n",
    "test.tail()"
   ]
  },
  {
   "cell_type": "markdown",
   "metadata": {},
   "source": [
    "Amb això podem crear un nou dataset (una única taula) que contingui tota la informació dels anys: 2019, 2020, 2021."
   ]
  },
  {
   "cell_type": "code",
   "execution_count": 33,
   "metadata": {
    "tags": []
   },
   "outputs": [
    {
     "data": {
      "application/vnd.jupyter.widget-view+json": {
       "model_id": "b132fa98955f4c968267e961ee7150cb",
       "version_major": 2,
       "version_minor": 0
      },
      "text/plain": [
       "HBox(children=(IntProgress(value=0, max=3), HTML(value='')))"
      ]
     },
     "metadata": {},
     "output_type": "display_data"
    },
    {
     "data": {
      "application/vnd.jupyter.widget-view+json": {
       "model_id": "2ac8ec7ea92b47b9877917775241b7e8",
       "version_major": 2,
       "version_minor": 0
      },
      "text/plain": [
       "HBox(children=(IntProgress(value=0, max=12), HTML(value='')))"
      ]
     },
     "metadata": {},
     "output_type": "display_data"
    },
    {
     "data": {
      "application/vnd.jupyter.widget-view+json": {
       "model_id": "f2896069ffac428b8e235b8ab22d390f",
       "version_major": 2,
       "version_minor": 0
      },
      "text/plain": [
       "HBox(children=(IntProgress(value=0, max=12), HTML(value='')))"
      ]
     },
     "metadata": {},
     "output_type": "display_data"
    },
    {
     "data": {
      "application/vnd.jupyter.widget-view+json": {
       "model_id": "61abf18dbf1c44c081519a30cebd84c1",
       "version_major": 2,
       "version_minor": 0
      },
      "text/plain": [
       "HBox(children=(IntProgress(value=0, max=12), HTML(value='')))"
      ]
     },
     "metadata": {},
     "output_type": "display_data"
    },
    {
     "name": "stdout",
     "output_type": "stream",
     "text": [
      "\n"
     ]
    },
    {
     "data": {
      "text/plain": [
       "(1018, 11)"
      ]
     },
     "execution_count": 33,
     "metadata": {},
     "output_type": "execute_result"
    }
   ],
   "source": [
    "df = pd.concat([clean_data(load_table(year, month), year, month) \n",
    "                for year in tqdm(YEARS) \n",
    "                for month in tqdm(range(1, 13), leave = False)])\n",
    "df = post_processing(df)\n",
    "df.shape"
   ]
  },
  {
   "cell_type": "code",
   "execution_count": 34,
   "metadata": {},
   "outputs": [
    {
     "data": {
      "text/html": [
       "<div>\n",
       "<style scoped>\n",
       "    .dataframe tbody tr th:only-of-type {\n",
       "        vertical-align: middle;\n",
       "    }\n",
       "\n",
       "    .dataframe tbody tr th {\n",
       "        vertical-align: top;\n",
       "    }\n",
       "\n",
       "    .dataframe thead th {\n",
       "        text-align: right;\n",
       "    }\n",
       "</style>\n",
       "<table border=\"1\" class=\"dataframe\">\n",
       "  <thead>\n",
       "    <tr style=\"text-align: right;\">\n",
       "      <th></th>\n",
       "      <th>tpep_pickup_datetime</th>\n",
       "      <th>tpep_dropoff_datetime</th>\n",
       "      <th>passenger_count</th>\n",
       "      <th>trip_distance</th>\n",
       "      <th>PULocationID</th>\n",
       "      <th>DOLocationID</th>\n",
       "      <th>payment_type</th>\n",
       "      <th>fare_amount</th>\n",
       "      <th>total_amount</th>\n",
       "      <th>trip_duration</th>\n",
       "      <th>mean_velocity</th>\n",
       "    </tr>\n",
       "  </thead>\n",
       "  <tbody>\n",
       "    <tr>\n",
       "      <td>115000</td>\n",
       "      <td>2019-01-01 14:07:18</td>\n",
       "      <td>2019-01-01 15:38:01</td>\n",
       "      <td>5.0</td>\n",
       "      <td>38.833471</td>\n",
       "      <td>132</td>\n",
       "      <td>223</td>\n",
       "      <td>2</td>\n",
       "      <td>52.0</td>\n",
       "      <td>58.56</td>\n",
       "      <td>01:30:43</td>\n",
       "      <td>38.833471</td>\n",
       "    </tr>\n",
       "    <tr>\n",
       "      <td>293000</td>\n",
       "      <td>2019-01-02 15:59:32</td>\n",
       "      <td>2019-01-02 17:07:37</td>\n",
       "      <td>1.0</td>\n",
       "      <td>16.576243</td>\n",
       "      <td>107</td>\n",
       "      <td>35</td>\n",
       "      <td>1</td>\n",
       "      <td>45.5</td>\n",
       "      <td>46.30</td>\n",
       "      <td>01:08:05</td>\n",
       "      <td>16.576243</td>\n",
       "    </tr>\n",
       "    <tr>\n",
       "      <td>318000</td>\n",
       "      <td>2019-01-02 17:20:58</td>\n",
       "      <td>2019-01-02 18:21:09</td>\n",
       "      <td>1.0</td>\n",
       "      <td>19.199474</td>\n",
       "      <td>137</td>\n",
       "      <td>26</td>\n",
       "      <td>2</td>\n",
       "      <td>43.5</td>\n",
       "      <td>45.30</td>\n",
       "      <td>01:00:11</td>\n",
       "      <td>19.199474</td>\n",
       "    </tr>\n",
       "    <tr>\n",
       "      <td>479000</td>\n",
       "      <td>2019-01-03 13:55:24</td>\n",
       "      <td>2019-01-03 15:04:40</td>\n",
       "      <td>1.0</td>\n",
       "      <td>34.874484</td>\n",
       "      <td>132</td>\n",
       "      <td>75</td>\n",
       "      <td>2</td>\n",
       "      <td>52.0</td>\n",
       "      <td>58.56</td>\n",
       "      <td>01:09:16</td>\n",
       "      <td>34.874484</td>\n",
       "    </tr>\n",
       "    <tr>\n",
       "      <td>1211000</td>\n",
       "      <td>2019-01-06 16:49:08</td>\n",
       "      <td>2019-01-06 18:04:37</td>\n",
       "      <td>1.0</td>\n",
       "      <td>40.877338</td>\n",
       "      <td>216</td>\n",
       "      <td>1</td>\n",
       "      <td>1</td>\n",
       "      <td>110.0</td>\n",
       "      <td>153.50</td>\n",
       "      <td>01:15:29</td>\n",
       "      <td>40.877338</td>\n",
       "    </tr>\n",
       "  </tbody>\n",
       "</table>\n",
       "</div>"
      ],
      "text/plain": [
       "        tpep_pickup_datetime tpep_dropoff_datetime  passenger_count  \\\n",
       "115000   2019-01-01 14:07:18   2019-01-01 15:38:01              5.0   \n",
       "293000   2019-01-02 15:59:32   2019-01-02 17:07:37              1.0   \n",
       "318000   2019-01-02 17:20:58   2019-01-02 18:21:09              1.0   \n",
       "479000   2019-01-03 13:55:24   2019-01-03 15:04:40              1.0   \n",
       "1211000  2019-01-06 16:49:08   2019-01-06 18:04:37              1.0   \n",
       "\n",
       "         trip_distance  PULocationID  DOLocationID  payment_type  fare_amount  \\\n",
       "115000       38.833471           132           223             2         52.0   \n",
       "293000       16.576243           107            35             1         45.5   \n",
       "318000       19.199474           137            26             2         43.5   \n",
       "479000       34.874484           132            75             2         52.0   \n",
       "1211000      40.877338           216             1             1        110.0   \n",
       "\n",
       "         total_amount trip_duration  mean_velocity  \n",
       "115000          58.56      01:30:43      38.833471  \n",
       "293000          46.30      01:08:05      16.576243  \n",
       "318000          45.30      01:00:11      19.199474  \n",
       "479000          58.56      01:09:16      34.874484  \n",
       "1211000        153.50      01:15:29      40.877338  "
      ]
     },
     "execution_count": 34,
     "metadata": {},
     "output_type": "execute_result"
    }
   ],
   "source": [
    "df.head()"
   ]
  },
  {
   "cell_type": "markdown",
   "metadata": {},
   "source": [
    "## 3. Visualització de dades anuals"
   ]
  },
  {
   "cell_type": "markdown",
   "metadata": {},
   "source": [
    "Començarem per obtenir una resposta quantitativa a la pregunta **S'ha incrementat o ha disminuït amb la covid la quantitat de viatges anuals fets amb taxis?**, n'hi ha prou amb crear una figura de barres on es visualitzin la quantitat de viatges per any.\n",
    "\n",
    "### Exercici C\n",
    "\n",
    "+ Escriu una funció basada en `matplotlib` que generi aquesta gràfica."
   ]
  },
  {
   "cell_type": "code",
   "execution_count": null,
   "metadata": {},
   "outputs": [],
   "source": [
    "def bar_plot(df, column, xlabel, ylabel, title):\n",
    "    \"\"\"\n",
    "    Funció que crea una figura de barres a partir del dataframe i \n",
    "    la columna que conté la informació\n",
    "    \"\"\"\n",
    "    # AQUÍ EL TEU CODI\n",
    "    \n",
    "    pass"
   ]
  },
  {
   "cell_type": "markdown",
   "metadata": {},
   "source": [
    "+ Visualitza el nombre de viatges de cada any."
   ]
  },
  {
   "cell_type": "code",
   "execution_count": null,
   "metadata": {
    "tags": []
   },
   "outputs": [],
   "source": [
    "# AQUÍ EL TEU CODI\n",
    "pass"
   ]
  },
  {
   "cell_type": "markdown",
   "metadata": {},
   "source": [
    "+ Visualitza ara en tres gràfiques, el nombre de viatges per mesos de cada any, fent servir la funció anterior."
   ]
  },
  {
   "cell_type": "code",
   "execution_count": null,
   "metadata": {},
   "outputs": [],
   "source": [
    "# AQUÍ EL TEU CODI\n",
    "pass"
   ]
  },
  {
   "cell_type": "markdown",
   "metadata": {},
   "source": [
    "+ És el comportament que esperàveu? Per què?"
   ]
  },
  {
   "cell_type": "markdown",
   "metadata": {},
   "source": [
    "> Resposta:"
   ]
  },
  {
   "cell_type": "markdown",
   "metadata": {},
   "source": [
    "+ Visualitza **quants passatgers hi ha per taxi i per any**. Crea una figura **amb tres subfigures** (una per any) on es pugui veure el recompte de passatgers per any. Després repetiu el mateix gràfic visualitzant el % (utilitzeu el paràmetre *norm = True*)."
   ]
  },
  {
   "cell_type": "code",
   "execution_count": null,
   "metadata": {},
   "outputs": [],
   "source": [
    "def passengers_taxi_year(df, ylim, xlabel, ylabel, title, norm = False):\n",
    "    \"\"\"\n",
    "    Funció que visualitza quants passatgers hi ha per taxi i per any\n",
    "    \"\"\"\n",
    "    \n",
    "    # AQUÍ EL TEU CODI\n",
    "    \n",
    "    pass"
   ]
  },
  {
   "cell_type": "code",
   "execution_count": null,
   "metadata": {
    "tags": []
   },
   "outputs": [],
   "source": [
    "passengers_taxi_year(df, \n",
    "                     (0, 60000), \n",
    "                     'Nombre de passatgers', \n",
    "                     'Recompte de passatgers', \n",
    "                     'Recompte de passatgers per any')"
   ]
  },
  {
   "cell_type": "code",
   "execution_count": null,
   "metadata": {
    "tags": []
   },
   "outputs": [],
   "source": [
    "passengers_taxi_year(df, \n",
    "                     (0, 0.8), \n",
    "                     'Nombre de passatgers', \n",
    "                     '%', \n",
    "                     '% de passatgers per any', \n",
    "                     norm = True)"
   ]
  },
  {
   "cell_type": "markdown",
   "metadata": {},
   "source": [
    "+ Com descriurieu de forma **qualitativa** l'efecte de la covid sobre els taxis en base a l'anàlisi fet fins ara?\n",
    "\n",
    "> Resposta: \n",
    "\n",
    "+ Podeu calcular de forma **quantitativa** la magnitud dels canvis que heu detectat? Escriviu una funció que calculi una sèrie d'indicadors quantitatius (per exemple, quin canvi percentual hi ha en el nombre de viatges d'una sola persona, etc.)."
   ]
  },
  {
   "cell_type": "code",
   "execution_count": null,
   "metadata": {},
   "outputs": [],
   "source": [
    "# AQUÍ EL TEU CODI\n",
    "pass"
   ]
  },
  {
   "cell_type": "markdown",
   "metadata": {},
   "source": [
    "+ Descriviu els resultats quantitatius que heu obtingut.\n",
    "\n",
    "> Resposta: "
   ]
  },
  {
   "cell_type": "markdown",
   "metadata": {},
   "source": [
    "## 4. Quantitat de viatges\n",
    "\n",
    "Fins ara hem vist la quantitat de viatges que hi ha hagut a nivell de mesos i anys.\n",
    "\n",
    "Ara podem estudiar l'efecte de la covid en el nombre de trajectes si **agreguem** les dades per hores, dies de la setmana, setmanes de l'any, etc. \n",
    "\n",
    "### Exercici D\n",
    "\n",
    "+ Escriu una funció genèrica que visualitzi el nombre de trajectes per les agregacions de dades comentades i per cada any. Fes servir gràfics de línies discontínues (una línia per cada any) per veure'n l'evolució i marca amb una rodona o creu allà on està el valor."
   ]
  },
  {
   "cell_type": "code",
   "execution_count": null,
   "metadata": {},
   "outputs": [],
   "source": [
    "def visualize_trips(df, columns, title, xlabel, ylabel):\n",
    "    \"\"\"\n",
    "    Funció que visualitza els viatges per diferents agregacions de dades\n",
    "    \"\"\"\n",
    "    \n",
    "    # AQUÍ EL TEU CODI\n",
    "    \n",
    "    pass"
   ]
  },
  {
   "cell_type": "code",
   "execution_count": null,
   "metadata": {
    "tags": []
   },
   "outputs": [],
   "source": [
    "visualize_trips(df, \n",
    "                ['pickup_hour', 'dropoff_hour'], \n",
    "                title = 'Quantitat de viatges per hora', \n",
    "                xlabel = 'Hora del dia', ylabel = 'Quantitat')"
   ]
  },
  {
   "cell_type": "code",
   "execution_count": null,
   "metadata": {
    "tags": []
   },
   "outputs": [],
   "source": [
    "visualize_trips(df, \n",
    "                ['pickup_day', 'dropoff_day'], \n",
    "                title = 'Quantitat de viatges per dia de la setmana', \n",
    "                xlabel = 'Dia de la setmana', \n",
    "                ylabel = 'Quantitat')"
   ]
  },
  {
   "cell_type": "code",
   "execution_count": null,
   "metadata": {
    "tags": []
   },
   "outputs": [],
   "source": [
    "visualize_trips(df, \n",
    "                ['pickup_week', 'dropoff_week'], \n",
    "                title = 'Quantitat de viatges per setmana de l\\'any', \n",
    "                xlabel = 'Setmana de l\\'any', \n",
    "                ylabel = 'Quanitat')"
   ]
  },
  {
   "cell_type": "markdown",
   "metadata": {},
   "source": [
    "+ Com descriurieu l'efecte de la covid en cada cas (si és que en té)? Quin creieu que és el motiu?"
   ]
  },
  {
   "cell_type": "markdown",
   "metadata": {},
   "source": [
    "> Resposta: "
   ]
  },
  {
   "cell_type": "markdown",
   "metadata": {},
   "source": [
    "## 5. Relació distancia, temps i velocitat\n",
    "\n",
    "A les dades tenim la **distància** que ha recorregut el taxi en cada viatge i de la informació temporal podem extreure també la **durada** d'aquest.\n",
    "\n",
    "Ara explorarem com la covid va afectar les distàncies i les durades dels viatges, i també la velocitat dels taxis. També ens preguntarem si la densitat de trànsit va variar."
   ]
  },
  {
   "cell_type": "markdown",
   "metadata": {},
   "source": [
    "### Exercici E\n",
    "\n",
    "+ Per començar, escriu una funció que visualitzi els **histogrames** de distància i durada per any."
   ]
  },
  {
   "cell_type": "code",
   "execution_count": null,
   "metadata": {},
   "outputs": [],
   "source": [
    "def visualize_histograms(df, column, title, xlabel, ylabel, xlim):\n",
    "    \"\"\"\n",
    "    Funció que crea un histograma a partir de la informació que conté la columna del dataframe\n",
    "    \"\"\"\n",
    "    \n",
    "    # AQUÍ EL TEU CODI\n",
    "    \n",
    "    pass"
   ]
  },
  {
   "cell_type": "code",
   "execution_count": null,
   "metadata": {
    "tags": []
   },
   "outputs": [],
   "source": [
    "visualize_histograms(df, 'trip_distance', title = 'Distància dels viatge per any', \n",
    "                     xlabel = 'Distància (km)', ylabel = 'Quantitat', xlim = (-5, 80))\n",
    "\n",
    "visualize_histograms(df, 'trip_duration', title = 'Durada dels viatges per any', \n",
    "                     xlabel = 'Durada (h)', ylabel = 'Quantitat', xlim = (-1, 25) )\n",
    "\n",
    "visualize_histograms(df, 'speed', title = 'Velocitat dels viatge per any', \n",
    "                     xlabel = 'Velocitat (Km/h)', ylabel = 'Quanitat', xlim = (-1, 25) )"
   ]
  },
  {
   "cell_type": "markdown",
   "metadata": {},
   "source": [
    "* Com creieu que la covid va afectar les distàncies i durades dels viatges?\n",
    "\n",
    "> Resposta:\n",
    "\n",
    "* I a la velocitat dels taxis?\n",
    "\n",
    "> Resposta:"
   ]
  },
  {
   "cell_type": "markdown",
   "metadata": {},
   "source": [
    "## 6. Visualització de les localitzacions dels viatges"
   ]
  },
  {
   "cell_type": "code",
   "execution_count": null,
   "metadata": {},
   "outputs": [],
   "source": [
    "column_names = df.columns.tolist()\n",
    "print(column_names)"
   ]
  },
  {
   "cell_type": "markdown",
   "metadata": {},
   "source": [
    "Només tenim la ID d'una localització, per tant, necessitem aconseguir la latitud i la longitud.\n",
    "\n",
    "La mateixa pàgina dels taxis ens dóna el fitxer *taxi_zones.zip*, però primer cal que convertim les dades de coordenades amb format WGS84.\n",
    "\n",
    "Podem utilitzar aquesta web: https://mygeodata.cloud/"
   ]
  },
  {
   "cell_type": "code",
   "execution_count": null,
   "metadata": {},
   "outputs": [],
   "source": [
    "from utils import get_lat_lon, draw_region_map, draw_zone_map"
   ]
  },
  {
   "cell_type": "code",
   "execution_count": null,
   "metadata": {
    "tags": []
   },
   "outputs": [],
   "source": [
    "sf = shapefile.Reader('data/geodata/taxi_zones.shp')\n",
    "\n",
    "fields_name = [field[0] for field in sf.fields[1:]]\n",
    "shp_dic = dict(zip(fields_name, list(range(len(fields_name)))))\n",
    "attributes = sf.records()\n",
    "shp_attr = [dict(zip(fields_name, attr)) for attr in attributes]"
   ]
  },
  {
   "cell_type": "code",
   "execution_count": null,
   "metadata": {},
   "outputs": [],
   "source": [
    "df_loc = pd.DataFrame(shp_attr).join(get_lat_lon(sf, shp_dic).set_index(\"LocationID\"), on=\"LocationID\")\n",
    "df_loc.head()"
   ]
  },
  {
   "cell_type": "code",
   "execution_count": null,
   "metadata": {
    "tags": []
   },
   "outputs": [],
   "source": [
    "fig, ax = plt.subplots(nrows=1, ncols=2, figsize=(15,8))\n",
    "ax = plt.subplot(1, 2, 1)\n",
    "ax.set_title(\"Boroughs in NYC\")\n",
    "draw_region_map(ax, sf, shp_dic)\n",
    "ax = plt.subplot(1, 2, 2)\n",
    "ax.set_title(\"Zones in NYC\")\n",
    "draw_zone_map(ax, sf, shp_dic)"
   ]
  },
  {
   "cell_type": "markdown",
   "metadata": {},
   "source": [
    "### Exercici F \n",
    "\n",
    "+ Ara teniu dos dataframe que necessitem unir. Utilitza la funció *merge* de Pandas per crear un nou dataframe (conserva el dataframe `df`), anomenat `merge`, que contingui la longitud i latitud (del punt de recollida i del punt de destí) a cada fila. "
   ]
  },
  {
   "cell_type": "code",
   "execution_count": null,
   "metadata": {},
   "outputs": [],
   "source": [
    "# AQUÍ EL TEU CODI\n",
    "\n",
    "pass"
   ]
  },
  {
   "cell_type": "code",
   "execution_count": null,
   "metadata": {},
   "outputs": [],
   "source": [
    "merge.shape"
   ]
  },
  {
   "cell_type": "code",
   "execution_count": null,
   "metadata": {},
   "outputs": [],
   "source": [
    "merge.head()"
   ]
  },
  {
   "cell_type": "markdown",
   "metadata": {},
   "source": [
    "## 7. Quines zones de NY tenen més recollides i quines zones tenen més arribades?\n",
    "\n",
    "En aquest apartat volem conèixer i visualitzar les zones on els taxis són més utilitzats.\n",
    "\n",
    "El primer pas és ordenar i guardar en una variable els llocs més comuns en la recollida i el destí.\n",
    "\n",
    "### Exercici G\n",
    "+  Escriu una funció `show_top_n` que imprimeix els 5 llocs més freqüents de recollida i els 5 llocs més freqüents d'arribada, per cada any."
   ]
  },
  {
   "cell_type": "code",
   "execution_count": null,
   "metadata": {},
   "outputs": [],
   "source": [
    "n_top = 5\n",
    "def show_top_n(df, column, df_loc, n_top = n_top):\n",
    "    \"\"\"\n",
    "    Funció que mostra els llocs més usuals per any\n",
    "    \"\"\"\n",
    "    # AQUÍ EL TEU CODI\n",
    "    pass"
   ]
  },
  {
   "cell_type": "code",
   "execution_count": null,
   "metadata": {},
   "outputs": [],
   "source": [
    "show_top_n(top_pu, 'PULocationID', df_loc)"
   ]
  },
  {
   "cell_type": "code",
   "execution_count": null,
   "metadata": {},
   "outputs": [],
   "source": [
    "show_top_n(top_do, 'DOLocationID', df_loc)"
   ]
  },
  {
   "cell_type": "markdown",
   "metadata": {},
   "source": [
    "Visualitzem amb un mapa de calor quines són les zones més recurrents."
   ]
  },
  {
   "cell_type": "code",
   "execution_count": null,
   "metadata": {},
   "outputs": [],
   "source": [
    "for year in YEARS:\n",
    "    \n",
    "    PUcount = {k:v for k, v in top_do[top_do.year == year][['DOLocationID', 'trip_distance']].values}\n",
    "\n",
    "    fig, ax = plt.subplots(nrows=1, ncols=2, figsize=(12,5))\n",
    "    ax = plt.subplot(1, 2, 1)\n",
    "    ax.set_title(f\"Zones with most pickups - {year}\")\n",
    "    draw_zone_map(ax, sf, shp_dic, heat=PUcount, text=list(PUcount.keys())[:3])\n",
    "    ax = plt.subplot(1, 2, 2)\n",
    "    ax.set_title(f\"Zones with most drop-offs - {year}\")\n",
    "    draw_zone_map(ax, sf, shp_dic, heat=PUcount, text=list(PUcount.keys())[:3])"
   ]
  },
  {
   "cell_type": "markdown",
   "metadata": {},
   "source": [
    "+ Per què creieu que la zona de Manhattan té més quantitat de viatges?\n",
    "\n",
    "> Resposta: "
   ]
  },
  {
   "cell_type": "markdown",
   "metadata": {},
   "source": [
    "## 8. Hospitals\n",
    "\n",
    "Com ha canviat la destinació dels viatges? Hi ha més viatges a les zones on hi ha grans hospitals?\n",
    "\n",
    "A la següent cel·la us donem la creació manual d'un DataFrame amb la localització més important dels hospitals de Nova York."
   ]
  },
  {
   "cell_type": "code",
   "execution_count": null,
   "metadata": {},
   "outputs": [],
   "source": [
    "hospitals = [('New York’s Presbyterian Lower Manhattan Hospital, NYC, NY, USA', '40.710255', '-74.005058'),\n",
    "('Manhattan Gastroenterology, NYC, NY, USA', '40.778259', '-73.958092'),\n",
    "('Stem Cell Therapy Hospital, NYC, NY, USA', '40.601517', '-73.961067'),\n",
    "('Park Avenue Smiles, Yonkers, NYC, NY, USA', '40.945873', '-73.890671'),\n",
    "('Cosmetic Dentistry Center, NYC, NY, USA', '40.629234', '-74.026077'),\n",
    "('Envy Smile Dental Spa, Brooklyn, NYC, NY, USA', '40.607059', '-73.960144'),\n",
    "('VIVA EVE, Forest Hills, NYC, NY, USA', '40.734291', '-73.849434'),\n",
    "('Forest Hills Medical Services, Queens, NYC, NY, USA', '40.734310', '-73.849510'),\n",
    "('Professional Gynecological Services, Brooklyn, NY, NY, USA', '40.689747', '-73.982346'),\n",
    "('Manhattan Womens Health & Wellness, New York, NY, USA', '40.741997', '-73.986107'),\n",
    "('Brooklyn Abortion Clinic, Brooklyn, NY, New York, USA', '40.689743', '-73.982368'),\n",
    "('Brooklyn GYN Place, Brooklyn, NY, USA', '40.692696', '-73.993584'),\n",
    "('Americas Holistic Doctor, NYC, NY, USA', '40.742531', '-73.985489'),\n",
    "('NJS Physical Medicine & Rehabilitation, Brooklyn, NY, USA', '40.641621', '-73.956734'),\n",
    "('DHD Medical, Brooklyn New York, USA', '40.625568', '-73.918320'),\n",
    "('Workers Compensation Doctor, New York, NY, USA', '40.652225', '-74.006104'),]\n",
    "\n",
    "hospitals = pd.DataFrame(hospitals, columns = ['Place Name', 'Latitude', 'Longitude'])\n",
    "hospitals['Latitude'] = hospitals['Latitude'].astype(float)\n",
    "hospitals['Longitude'] = hospitals['Longitude'].astype(float)\n",
    "hospitals.head()"
   ]
  },
  {
   "cell_type": "markdown",
   "metadata": {},
   "source": [
    "### Exercici H\n",
    "\n",
    "+ Utilitza la latitud i longitud de cada hospital i la de les zones del dataframe *merge* per veure la relació entre la distribució dels hospitals i la dels viatges. Per fer-ho utilitza els gràfics de dispersió. Recorda que s'entendrà millor si els punts són transparents (paràmetre *alpha*).\n",
    "\n",
    "+ Després repeteix el mateix gràfic però separat per any. "
   ]
  },
  {
   "cell_type": "code",
   "execution_count": null,
   "metadata": {},
   "outputs": [],
   "source": [
    "def scatter_locations(merge, hospitals):\n",
    "    \"\"\"Funció que mostra la distribució dels hospitals i les destinacions dels taxis\"\"\"\n",
    "    # AQUÍ EL TEU CODI\n",
    "    pass"
   ]
  },
  {
   "cell_type": "code",
   "execution_count": null,
   "metadata": {},
   "outputs": [],
   "source": [
    "scatter_locations(merge, hospitals)"
   ]
  },
  {
   "cell_type": "code",
   "execution_count": null,
   "metadata": {},
   "outputs": [],
   "source": [
    "def scatter_locations_per_year(merge, hospitals):\n",
    "    \"\"\"Funció que mostra la distribució dels hospitals i les destinacions dels taxis\"\"\"\n",
    "    # AQUÍ EL TEU CODI\n",
    "    pass"
   ]
  },
  {
   "cell_type": "code",
   "execution_count": null,
   "metadata": {},
   "outputs": [],
   "source": [
    "scatter_locations_per_year(merge, hospitals)"
   ]
  },
  {
   "cell_type": "markdown",
   "metadata": {},
   "source": [
    "* Veus algun comportament interessant per comentar?\n",
    "> Resposta: "
   ]
  }
 ],
 "metadata": {
  "kernelspec": {
   "display_name": "Python 3",
   "language": "python",
   "name": "python3"
  },
  "language_info": {
   "codemirror_mode": {
    "name": "ipython",
    "version": 3
   },
   "file_extension": ".py",
   "mimetype": "text/x-python",
   "name": "python",
   "nbconvert_exporter": "python",
   "pygments_lexer": "ipython3",
   "version": "3.7.4"
  }
 },
 "nbformat": 4,
 "nbformat_minor": 5
}

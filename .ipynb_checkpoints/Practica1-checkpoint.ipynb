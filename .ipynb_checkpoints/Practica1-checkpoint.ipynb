{
 "cells": [
  {
   "cell_type": "markdown",
   "metadata": {},
   "source": [
    "# Pràctica 1: \n",
    "\n",
    "Nom dels alumnes del grup:\n",
    "\n",
    "> Recordeu que, tot i que la pràctica es fa en parelles, els dos membres del grup han de lliurar al campus virtual aquest notebook.\n",
    "\n",
    "# Anàlisi exploratòria de dades (EDA) & ús d'eines avançades de Python\n",
    "\n",
    "L'**anàlisi exploratòria de dades** (EDA, per les seves sigles en anglès, *Exploratory Data Analysis*) és un procés crític en la ciència de les dades que implica **explorar, resumir i visualitzar** les dades per a entendre les seves característiques principals. L'objectiu principal de l'EDA és revelar patrons, tendències i anomalies a partir de les dades, sense fer suposicions massa específiques o construir models massa complexes.\n",
    "\n",
    "Aquí teniu alguns dels elements més importants de l'anàlisi exploratòria de dades:\n",
    "\n",
    "+ **Visualització de dades**: A través de gràfics i gràfiques, es representen les dades per a veure distribucions, tendències i relacions. Això pot incloure histogrames, gràfics de barres, diagrames de dispersió, gràfics de caixa, etc.\n",
    "\n",
    "+ **Estadístiques descriptives**: Es calculen estadístiques com la mitjana, la mediana, la desviació estàndard i altres mesures resum per a descriure les característiques bàsiques de les variables.\n",
    "\n",
    "+ **Detecció d'anomalies**: Es busca identificar valors atípics o anòmals que puguin indicar errors o situacions especials en les dades.\n",
    "\n",
    "+ **Imputació de dades faltants**: Si les dades tenen buits o valors faltants, es pot decidir com omplir aquests buits de manera adequada.\n",
    "\n",
    "+ **Exploració de relacions**: Es busquen correlacions i relacions entre les diferents variables de les dades per a identificar connexions i dependencies.\n",
    "\n",
    "+ **Agrupació de dades**: Es divideixen les dades en subconjunts basats en certes característiques per a analitzar-les més detingudament.\n",
    "\n",
    "+ **Transformació de dades**: Es poden aplicar transformacions a les dades per a fer-les més adequades per a anàlisi posterior, com l'estandardització o la normalització.\n",
    "\n",
    "* **Selecció de característiques**: Si es treballa amb un conjunt de dades amb moltes variables, es pot realitzar una selecció de característiques per a reduir la complexitat i millorar l'eficiència de l'anàlisi.\n",
    "\n",
    "Python ofereix una àmplia gamma d'eines i biblioteques per a realitzar l'anàlisi exploratòria de dades (EDA). Algunes de les biblioteques més populars i útils són les següents:\n",
    "\n",
    "+ **NumPy**: NumPy és una biblioteca fonamental per a la computació científica en Python. Proporciona funcionalitats per a treballar amb matrius i vectors, la qual cosa és essencial per a l'anàlisi de dades.\n",
    "\n",
    "+ **Pandas**: Pandas és una biblioteca molt popular per a l'anàlisi de dades que ofereix estructures de dades com DataFrame i Series, que faciliten la manipulació i anàlisi de dades tabulars. Podeu utilitzar Pandas per a carregar, netejar i explorar les dades.\n",
    "\n",
    "+ **Matplotlib**: Matplotlib és una biblioteca per a la visualització de dades que us permet crear una àmplia gamma de gràfics i gràfiques personalitzades. És ideal per a crear histogrames, diagrames de dispersió, gràfics de barres i moltes altres representacions gràfiques.\n",
    "\n",
    "+ **Scipy**: SciPy és una biblioteca que amplia les funcionalitats de NumPy i proporciona eines addicionals per a l'anàlisi científic, inclosos estadístics i mètodes d'optimització.\n",
    "\n",
    "+ **Scikit-learn**: Si esteu interessats en l'aprenentatge automàtic, Scikit-learn és una biblioteca essencial que ofereix eines per a la classificació, regressió, agrupació i altres tasques d'aprenentatge automàtic. També conté eines per a la selecció de característiques.\n",
    "\n",
    "+ **Seaborn**: Seaborn és una biblioteca de visualització de dades basada en Matplotlib que simplifica la creació de gràfics estadístics atractius i informatius. És especialment útil per a la visualització de relacions i tendències en les dades."
   ]
  },
  {
   "cell_type": "markdown",
   "metadata": {},
   "source": [
    "## 0. Objectiu de la pràctica\n",
    "\n",
    "L'**objectiu d'aquesta pràctica** és aprendre com fer una exploració sobre un conjunt de dades real, que al final ens permeti obtenir la resposta a diverses preguntes. \n",
    "\n",
    "En aquesta pràctica explorarem les dades dels trajectes dels **taxis grocs de la ciutat de Nova York** durant varios anys.\n",
    "\n",
    "En finalitzar aquesta pràctica, haureu de ser capaços de respondre la pregunta següent de forma detallada:\n",
    "\n",
    "- **Com va afectar la pandèmia de la Covid l'ús dels taxis a Nova York?**\n",
    "\n",
    "Pere respondre aquesta pregunta tant genèrica, ho descomposarem en preguntes més concretes:\n",
    "\n",
    "- Quina distribució d'encàrrecs segueixen els taxis i quina distància / durada tenen?\n",
    "- Quines són les zones on m'és / menys taxis s'agafen? \n",
    "- Quins horaris són els més usuals?\n",
    "- Quins dies de la setmana i del mes s'utilitzen més? \n",
    "- Etc."
   ]
  },
  {
   "cell_type": "markdown",
   "metadata": {},
   "source": [
    "### Instal·lació i importació de les llibreries necessàries\n",
    "\n",
    "A més a més de les llibreries comentades, farem servir aquests mòduls de Python:\n",
    "\n",
    "+ **PyArrow**: PyArrow és una biblioteca de Python que es fa servir per a l'intercanvi eficient de dades entre Python i altres llenguatges de programació, especialment C++ i Java. Aquesta biblioteca es desenvolupa com a part del projecte Apache Arrow, que és un projecte de codi obert dissenyat per a millorar el rendiment i la interoperabilitat de l'analítica de dades i les tecnologies relacionades. PyArrow permet la creació i la manipulació eficient de dades en forma de taules i columnes. PyArrow ofereix suport per a l'estructura de dades coneguda com a \"Table\", que és similar a una taula o un quadern de dades en altres llenguatges. Aquesta estructura de dades facilita l'organització i la manipulació de dades tabulars.\n",
    "+ **pyshp** és una biblioteca de Python que es fa servir per a llegir i escriure arxius en el format de fitxers de forma (shapefiles). El format de fitxers de forma és un format estàndard en geoinformàtica i geodèsia per a emmagatzemar i intercanviar dades geoespacials, com ara punts, línies i polígons, juntament amb les seves propietats associades.\n",
    "+ **shapely** és una biblioteca de Python que es fa servir per a realitzar operacions geomètriques i anàlisi espacial amb objectes geoespacials. Aquesta biblioteca és especialment útil per a treballar amb geometria plana, com ara punts, línies i polígons, i permet realitzar una àmplia gamma d'operacions, com ara interseccions, unions, àrees, longituds i moltes altres.\n",
    "+ **descartes** és una biblioteca de tercers que es fa servir per a la visualització de gràfics geoespacials."
   ]
  },
  {
   "cell_type": "code",
   "execution_count": 1,
   "metadata": {
    "tags": []
   },
   "outputs": [],
   "source": [
    "%%capture\n",
    "! pip install pyarrow\n",
    "! pip install pyshp==2.1.3\n",
    "! pip install shapely==1.7.1\n",
    "! pip install pandas==1.5.3\n",
    "! pip install numpy==1.22\n",
    "! pip install descartes==1.1.0"
   ]
  },
  {
   "cell_type": "code",
   "execution_count": 2,
   "metadata": {},
   "outputs": [],
   "source": [
    "import pandas as pd\n",
    "import numpy as np\n",
    "import urllib.request\n",
    "import zipfile\n",
    "import os\n",
    "from tqdm.notebook import tqdm\n",
    "import pyarrow.parquet as pq"
   ]
  },
  {
   "cell_type": "code",
   "execution_count": 3,
   "metadata": {},
   "outputs": [],
   "source": [
    "import shapefile\n",
    "from shapely.geometry import Polygon\n",
    "from descartes.patch import PolygonPatch\n",
    "import seaborn as sns\n",
    "import matplotlib as mpl\n",
    "import matplotlib.pyplot as plt\n",
    "%matplotlib inline"
   ]
  },
  {
   "cell_type": "markdown",
   "metadata": {},
   "source": [
    "## 1. Descàrrega de dades"
   ]
  },
  {
   "cell_type": "code",
   "execution_count": 4,
   "metadata": {},
   "outputs": [],
   "source": [
    "# Variables globals: els anys que estudiarem\n",
    "YEARS = [2019, 2020, 2021]"
   ]
  },
  {
   "cell_type": "code",
   "execution_count": 14,
   "metadata": {
    "tags": []
   },
   "outputs": [
    {
     "data": {
      "application/vnd.jupyter.widget-view+json": {
       "model_id": "268b1a1bab1b4e639154a9e4989f75a5",
       "version_major": 2,
       "version_minor": 0
      },
      "text/plain": [
       "HBox(children=(IntProgress(value=0, max=3), HTML(value='')))"
      ]
     },
     "metadata": {},
     "output_type": "display_data"
    },
    {
     "name": "stdout",
     "output_type": "stream",
     "text": [
      "\n"
     ]
    }
   ],
   "source": [
    "# Descàrrega de les dades: Trip Record Data \n",
    "# https://www1.nyc.gov/site/tlc/about/tlc-trip-record-data.page\n",
    "\n",
    "for year in tqdm(YEARS):\n",
    "    if not os.path.exists(f'data/{year}'):\n",
    "        os.makedirs(f'data/{year}', exist_ok=True)\n",
    "        for month in tqdm(range(1, 13)): \n",
    "            urllib.request.urlretrieve(f'https://d37ci6vzurychx.cloudfront.net/trip-data/yellow_tripdata_{year}-{month:02d}.parquet', f'data/{year}/{month:02d}.parquet')"
   ]
  },
  {
   "cell_type": "markdown",
   "metadata": {},
   "source": [
    "## 2. Neteja de dades\n",
    "\n",
    "Per tal de tenir unes dades netes i útils, eliminarem totes aquells trajectes (files del conjunt de dades)  que continguin informació *corrupte*. Per exemple, com a mínim cal verificar que no es dóna cap d'aquests casos:\n",
    "\n",
    "- Presència de *missing data* (camps/columnes de les dades sense valor).\n",
    "- L'hora de recollida és posterior a la finalització del trajecte.\n",
    "- Les dades s'importen per mes i any. Són coherents els valors que contenen les dades?\n",
    "- Hi ha viatges amb un nombre absurd de passatgers?\n",
    "- Hi ha viatges massa llargs o massa curts?\n",
    "- Hi ha pagaments negatius?\n",
    "- Etc.\n",
    "\n",
    "A més a més, podem considerar aspectes concrets d'aquestes dades:\n",
    "\n",
    "+ Hi pot haver viatges impossibles segons la normativa: \n",
    "    + [Més viatgers que els permesos](https://www1.nyc.gov/site/tlc/passengers/passenger-frequently-asked-questions.page) o [velocitats il·legals](https://www.speed-limits.com/newyork).\n",
    "    + [Limit de persones permeses a un yellow taxicab](https://drive.google.com/file/d/1eiV7wdm7WrkRlM9bmekCRM6GY3Yq6GI2/view?usp=sharing)"
   ]
  },
  {
   "cell_type": "markdown",
   "metadata": {},
   "source": [
    "De totes les columnes que tenen les dades, només cal fer servir les següents per contestar les preguntes:\n",
    "\n",
    "- *tpep_pickup_datetime*: The date and time when the meter was engaged.\n",
    "- *tpep_dropoff_datetime*: The date and time when the meter was disengaged. \n",
    "- *Passenger_count*: The number of passengers in the vehicle. \n",
    "- *Trip_distance*: The elapsed trip distance in miles reported by the taximeter.\n",
    "- *PULocationID*: TLC Taxi Zone in which the taximeter was engaged\n",
    "- *DOLocationID*: TLC Taxi Zone in which the taximeter was disengaged\n",
    "- *Payment_type*: A numeric code signifying how the passenger paid for the trip. \n",
    "    - 1= Credit card\n",
    "    - 2= Cash\n",
    "    - 3= No charge\n",
    "    - 4= Dispute\n",
    "    - 5= Unknown\n",
    "    - 6= Voided trip\n",
    "- *Fare_amount*: The time-and-distance fare calculated by the meter.\n",
    "- *Total_amount*: The total amount charged to passengers."
   ]
  },
  {
   "cell_type": "code",
   "execution_count": 36,
   "metadata": {},
   "outputs": [
    {
     "data": {
      "text/plain": [
       "(7697, 9)"
      ]
     },
     "execution_count": 36,
     "metadata": {},
     "output_type": "execute_result"
    }
   ],
   "source": [
    "# carreguem les dades a un dataframe de pandas\n",
    "# Per agilitzar els càlculs i reduir el temps de càlcul durant el desenvolupament, \n",
    "# podeu treballarem amb una mostra uniforme de les dades (1 fila de cada 1000).\n",
    "\n",
    "def load_table(year, month, sampling = 1000):\n",
    "    \"\"\"\n",
    "    Funció que llegeix les dades descarregades i les converteix a un DataFrame\n",
    "    \"\"\"\n",
    "    data = pq.read_table(f'data/{year}/{str(month).zfill(2)}.parquet').to_pandas()\n",
    "    required_data = ['tpep_pickup_datetime', \n",
    "                 'tpep_dropoff_datetime', \n",
    "                 'passenger_count', \n",
    "                 'trip_distance', \n",
    "                 'PULocationID', \n",
    "                 'DOLocationID', \n",
    "                 'payment_type', \n",
    "                 'fare_amount', \n",
    "                 'total_amount']\n",
    "    return data[required_data][::sampling]\n",
    "\n",
    "# explorem una mica les dades\n",
    "test = load_table(2019, 1)\n",
    "test.shape"
   ]
  },
  {
   "cell_type": "code",
   "execution_count": 38,
   "metadata": {},
   "outputs": [
    {
     "data": {
      "text/html": [
       "<div>\n",
       "<style scoped>\n",
       "    .dataframe tbody tr th:only-of-type {\n",
       "        vertical-align: middle;\n",
       "    }\n",
       "\n",
       "    .dataframe tbody tr th {\n",
       "        vertical-align: top;\n",
       "    }\n",
       "\n",
       "    .dataframe thead th {\n",
       "        text-align: right;\n",
       "    }\n",
       "</style>\n",
       "<table border=\"1\" class=\"dataframe\">\n",
       "  <thead>\n",
       "    <tr style=\"text-align: right;\">\n",
       "      <th></th>\n",
       "      <th>tpep_pickup_datetime</th>\n",
       "      <th>tpep_dropoff_datetime</th>\n",
       "      <th>passenger_count</th>\n",
       "      <th>trip_distance</th>\n",
       "      <th>PULocationID</th>\n",
       "      <th>DOLocationID</th>\n",
       "      <th>payment_type</th>\n",
       "      <th>fare_amount</th>\n",
       "      <th>total_amount</th>\n",
       "    </tr>\n",
       "  </thead>\n",
       "  <tbody>\n",
       "    <tr>\n",
       "      <td>7687000</td>\n",
       "      <td>2019-01-22 13:33:00</td>\n",
       "      <td>2019-01-22 14:08:00</td>\n",
       "      <td>NaN</td>\n",
       "      <td>8.20</td>\n",
       "      <td>179</td>\n",
       "      <td>4</td>\n",
       "      <td>0</td>\n",
       "      <td>35.95</td>\n",
       "      <td>39.5</td>\n",
       "    </tr>\n",
       "    <tr>\n",
       "      <td>7688000</td>\n",
       "      <td>2019-01-23 10:32:30</td>\n",
       "      <td>2019-01-23 11:23:12</td>\n",
       "      <td>NaN</td>\n",
       "      <td>13.25</td>\n",
       "      <td>218</td>\n",
       "      <td>49</td>\n",
       "      <td>0</td>\n",
       "      <td>65.05</td>\n",
       "      <td>68.1</td>\n",
       "    </tr>\n",
       "    <tr>\n",
       "      <td>7689000</td>\n",
       "      <td>2019-01-24 07:50:00</td>\n",
       "      <td>2019-01-24 09:24:00</td>\n",
       "      <td>NaN</td>\n",
       "      <td>14.81</td>\n",
       "      <td>185</td>\n",
       "      <td>114</td>\n",
       "      <td>0</td>\n",
       "      <td>50.69</td>\n",
       "      <td>60.0</td>\n",
       "    </tr>\n",
       "    <tr>\n",
       "      <td>7690000</td>\n",
       "      <td>2019-01-25 06:36:00</td>\n",
       "      <td>2019-01-25 07:20:00</td>\n",
       "      <td>NaN</td>\n",
       "      <td>16.97</td>\n",
       "      <td>215</td>\n",
       "      <td>87</td>\n",
       "      <td>0</td>\n",
       "      <td>74.19</td>\n",
       "      <td>83.5</td>\n",
       "    </tr>\n",
       "    <tr>\n",
       "      <td>7691000</td>\n",
       "      <td>2019-01-25 18:07:00</td>\n",
       "      <td>2019-01-25 18:46:00</td>\n",
       "      <td>NaN</td>\n",
       "      <td>6.58</td>\n",
       "      <td>52</td>\n",
       "      <td>71</td>\n",
       "      <td>0</td>\n",
       "      <td>32.45</td>\n",
       "      <td>36.0</td>\n",
       "    </tr>\n",
       "    <tr>\n",
       "      <td>7692000</td>\n",
       "      <td>2019-01-27 11:46:00</td>\n",
       "      <td>2019-01-27 12:20:00</td>\n",
       "      <td>NaN</td>\n",
       "      <td>11.27</td>\n",
       "      <td>89</td>\n",
       "      <td>90</td>\n",
       "      <td>0</td>\n",
       "      <td>39.89</td>\n",
       "      <td>49.2</td>\n",
       "    </tr>\n",
       "    <tr>\n",
       "      <td>7693000</td>\n",
       "      <td>2019-01-28 13:22:00</td>\n",
       "      <td>2019-01-28 13:49:00</td>\n",
       "      <td>NaN</td>\n",
       "      <td>10.40</td>\n",
       "      <td>55</td>\n",
       "      <td>228</td>\n",
       "      <td>0</td>\n",
       "      <td>45.65</td>\n",
       "      <td>49.2</td>\n",
       "    </tr>\n",
       "    <tr>\n",
       "      <td>7694000</td>\n",
       "      <td>2019-01-29 11:17:00</td>\n",
       "      <td>2019-01-29 11:54:00</td>\n",
       "      <td>NaN</td>\n",
       "      <td>6.63</td>\n",
       "      <td>45</td>\n",
       "      <td>239</td>\n",
       "      <td>0</td>\n",
       "      <td>35.95</td>\n",
       "      <td>39.5</td>\n",
       "    </tr>\n",
       "    <tr>\n",
       "      <td>7695000</td>\n",
       "      <td>2019-01-30 08:35:00</td>\n",
       "      <td>2019-01-30 08:55:00</td>\n",
       "      <td>NaN</td>\n",
       "      <td>6.98</td>\n",
       "      <td>137</td>\n",
       "      <td>42</td>\n",
       "      <td>0</td>\n",
       "      <td>35.95</td>\n",
       "      <td>39.5</td>\n",
       "    </tr>\n",
       "    <tr>\n",
       "      <td>7696000</td>\n",
       "      <td>2019-01-31 09:00:00</td>\n",
       "      <td>2019-01-31 09:45:00</td>\n",
       "      <td>NaN</td>\n",
       "      <td>4.11</td>\n",
       "      <td>162</td>\n",
       "      <td>231</td>\n",
       "      <td>0</td>\n",
       "      <td>35.95</td>\n",
       "      <td>39.5</td>\n",
       "    </tr>\n",
       "  </tbody>\n",
       "</table>\n",
       "</div>"
      ],
      "text/plain": [
       "        tpep_pickup_datetime tpep_dropoff_datetime  passenger_count  \\\n",
       "7687000  2019-01-22 13:33:00   2019-01-22 14:08:00              NaN   \n",
       "7688000  2019-01-23 10:32:30   2019-01-23 11:23:12              NaN   \n",
       "7689000  2019-01-24 07:50:00   2019-01-24 09:24:00              NaN   \n",
       "7690000  2019-01-25 06:36:00   2019-01-25 07:20:00              NaN   \n",
       "7691000  2019-01-25 18:07:00   2019-01-25 18:46:00              NaN   \n",
       "7692000  2019-01-27 11:46:00   2019-01-27 12:20:00              NaN   \n",
       "7693000  2019-01-28 13:22:00   2019-01-28 13:49:00              NaN   \n",
       "7694000  2019-01-29 11:17:00   2019-01-29 11:54:00              NaN   \n",
       "7695000  2019-01-30 08:35:00   2019-01-30 08:55:00              NaN   \n",
       "7696000  2019-01-31 09:00:00   2019-01-31 09:45:00              NaN   \n",
       "\n",
       "         trip_distance  PULocationID  DOLocationID  payment_type  fare_amount  \\\n",
       "7687000           8.20           179             4             0        35.95   \n",
       "7688000          13.25           218            49             0        65.05   \n",
       "7689000          14.81           185           114             0        50.69   \n",
       "7690000          16.97           215            87             0        74.19   \n",
       "7691000           6.58            52            71             0        32.45   \n",
       "7692000          11.27            89            90             0        39.89   \n",
       "7693000          10.40            55           228             0        45.65   \n",
       "7694000           6.63            45           239             0        35.95   \n",
       "7695000           6.98           137            42             0        35.95   \n",
       "7696000           4.11           162           231             0        35.95   \n",
       "\n",
       "         total_amount  \n",
       "7687000          39.5  \n",
       "7688000          68.1  \n",
       "7689000          60.0  \n",
       "7690000          83.5  \n",
       "7691000          36.0  \n",
       "7692000          49.2  \n",
       "7693000          49.2  \n",
       "7694000          39.5  \n",
       "7695000          39.5  \n",
       "7696000          39.5  "
      ]
     },
     "execution_count": 38,
     "metadata": {},
     "output_type": "execute_result"
    }
   ],
   "source": [
    "test = load_table(2019, 1)\n",
    "test.tail(10)"
   ]
  },
  {
   "cell_type": "markdown",
   "metadata": {},
   "source": [
    "###  Exercici A\n",
    "\n",
    "+ Un cop llegides les dades a una taula de Pandas, implementa una funció que faci el procés de neteja que consideris necessari. Per determinar què és necessari, explora els valors que apareixen a cada columna del dataframe de Pandas i decideix què cal fer.\n",
    "\n",
    "> *Nota: Les columnes `Datatime` són un subtipus de dades de Pandas anomenades `datetime`.  Busca com tractar de forma eficient aquest tipus de dades en Pandas.*"
   ]
  },
  {
   "cell_type": "code",
   "execution_count": null,
   "metadata": {
    "tags": []
   },
   "outputs": [],
   "source": [
    "def clean_data(data, year, month):\n",
    "    \"\"\"\n",
    "    Funció que neteja (una mostra de) les dades per un mes donat.\n",
    "    \"\"\" \n",
    "    # AQUÍ EL TEU CODI\n",
    "    data = load_table(year,month)\n",
    "    \n",
    "    #Eliminem qualsevol fila amb missing data\n",
    "    data.dropna(how=\"any\") \n",
    "    #Eliminem files amb recollida posterior a la finalizació\n",
    "    data.drop(data[data.tpep_dropoff_datetime<data.tpep_pickup_datetime].index)\n",
    "    #Eliminem files amb dates incoherents (un trajecte pertany a un mes si es finalizta en aquell mes)\n",
    "    data.drop(data[data.tpep_dropoff_datetime.month!=month].index) #Mes diferent al mes donat\n",
    "    dada.drop(data[data.tpep_dropoff_datetime.year!=year].index) #Any diferent a l'any donat\n",
    "    #Eliminem files amb nombres absurds de passatgers (que no estiguin entre 1 i 5, d'acord amb la normativa)\n",
    "    data.drop(data[data.passenger_count<1 or data.passenger_count>5].index)\n",
    "    #Eliminem files corresponents a viatges massa llargs o massa curts (considerem que fora del rang 0.1 - 100 milles)\n",
    "    data.drop(data[data.trip_distance <0.1 or data.trip_distance >100].index)\n",
    "    #Eliminem files amb pagaments negatius\n",
    "    data.drop(data[data.total_amount<0 or data.fare_amount<0].index)\n",
    "    #Eliminem files amb velocitat mitjana il·legal (65 mph com a màxim, d'acord amb https://www.speed-limits.com/newyork)\n",
    "    data.drop(data[data.trip_distance/(data.tpep_dropoff_datetime-data.dpep_pickup_datetime).astype('timedelta64[h]')>65].index)\n",
    "    "
   ]
  },
  {
   "cell_type": "code",
   "execution_count": 8,
   "metadata": {},
   "outputs": [
    {
     "data": {
      "text/html": [
       "<div>\n",
       "<style scoped>\n",
       "    .dataframe tbody tr th:only-of-type {\n",
       "        vertical-align: middle;\n",
       "    }\n",
       "\n",
       "    .dataframe tbody tr th {\n",
       "        vertical-align: top;\n",
       "    }\n",
       "\n",
       "    .dataframe thead th {\n",
       "        text-align: right;\n",
       "    }\n",
       "</style>\n",
       "<table border=\"1\" class=\"dataframe\">\n",
       "  <thead>\n",
       "    <tr style=\"text-align: right;\">\n",
       "      <th></th>\n",
       "      <th>tpep_pickup_datetime</th>\n",
       "      <th>tpep_dropoff_datetime</th>\n",
       "      <th>passenger_count</th>\n",
       "      <th>trip_distance</th>\n",
       "      <th>PULocationID</th>\n",
       "      <th>DOLocationID</th>\n",
       "      <th>payment_type</th>\n",
       "      <th>fare_amount</th>\n",
       "      <th>total_amount</th>\n",
       "    </tr>\n",
       "  </thead>\n",
       "  <tbody>\n",
       "    <tr>\n",
       "      <td>7692000</td>\n",
       "      <td>2019-01-27 11:46:00</td>\n",
       "      <td>2019-01-27 12:20:00</td>\n",
       "      <td>NaN</td>\n",
       "      <td>11.27</td>\n",
       "      <td>89</td>\n",
       "      <td>90</td>\n",
       "      <td>0</td>\n",
       "      <td>39.89</td>\n",
       "      <td>49.2</td>\n",
       "    </tr>\n",
       "    <tr>\n",
       "      <td>7693000</td>\n",
       "      <td>2019-01-28 13:22:00</td>\n",
       "      <td>2019-01-28 13:49:00</td>\n",
       "      <td>NaN</td>\n",
       "      <td>10.40</td>\n",
       "      <td>55</td>\n",
       "      <td>228</td>\n",
       "      <td>0</td>\n",
       "      <td>45.65</td>\n",
       "      <td>49.2</td>\n",
       "    </tr>\n",
       "    <tr>\n",
       "      <td>7694000</td>\n",
       "      <td>2019-01-29 11:17:00</td>\n",
       "      <td>2019-01-29 11:54:00</td>\n",
       "      <td>NaN</td>\n",
       "      <td>6.63</td>\n",
       "      <td>45</td>\n",
       "      <td>239</td>\n",
       "      <td>0</td>\n",
       "      <td>35.95</td>\n",
       "      <td>39.5</td>\n",
       "    </tr>\n",
       "    <tr>\n",
       "      <td>7695000</td>\n",
       "      <td>2019-01-30 08:35:00</td>\n",
       "      <td>2019-01-30 08:55:00</td>\n",
       "      <td>NaN</td>\n",
       "      <td>6.98</td>\n",
       "      <td>137</td>\n",
       "      <td>42</td>\n",
       "      <td>0</td>\n",
       "      <td>35.95</td>\n",
       "      <td>39.5</td>\n",
       "    </tr>\n",
       "    <tr>\n",
       "      <td>7696000</td>\n",
       "      <td>2019-01-31 09:00:00</td>\n",
       "      <td>2019-01-31 09:45:00</td>\n",
       "      <td>NaN</td>\n",
       "      <td>4.11</td>\n",
       "      <td>162</td>\n",
       "      <td>231</td>\n",
       "      <td>0</td>\n",
       "      <td>35.95</td>\n",
       "      <td>39.5</td>\n",
       "    </tr>\n",
       "  </tbody>\n",
       "</table>\n",
       "</div>"
      ],
      "text/plain": [
       "        tpep_pickup_datetime tpep_dropoff_datetime  passenger_count  \\\n",
       "7692000  2019-01-27 11:46:00   2019-01-27 12:20:00              NaN   \n",
       "7693000  2019-01-28 13:22:00   2019-01-28 13:49:00              NaN   \n",
       "7694000  2019-01-29 11:17:00   2019-01-29 11:54:00              NaN   \n",
       "7695000  2019-01-30 08:35:00   2019-01-30 08:55:00              NaN   \n",
       "7696000  2019-01-31 09:00:00   2019-01-31 09:45:00              NaN   \n",
       "\n",
       "         trip_distance  PULocationID  DOLocationID  payment_type  fare_amount  \\\n",
       "7692000          11.27            89            90             0        39.89   \n",
       "7693000          10.40            55           228             0        45.65   \n",
       "7694000           6.63            45           239             0        35.95   \n",
       "7695000           6.98           137            42             0        35.95   \n",
       "7696000           4.11           162           231             0        35.95   \n",
       "\n",
       "         total_amount  \n",
       "7692000          49.2  \n",
       "7693000          49.2  \n",
       "7694000          39.5  \n",
       "7695000          39.5  \n",
       "7696000          39.5  "
      ]
     },
     "execution_count": 8,
     "metadata": {},
     "output_type": "execute_result"
    }
   ],
   "source": [
    "test.tail()"
   ]
  },
  {
   "cell_type": "markdown",
   "metadata": {},
   "source": [
    "###  Exercici B\n",
    "\n",
    "+ Escriu una funció que transformi la taula original a una nova taula, més adequada per tal de dur a terme l'exploració necessària. Podeu afegir columnes addicionals, precalcular valors, etc.\n",
    "\n",
    "> Per exemple, podem trasnformar les dades per treballar amb les unitats de kilòmetres i hores per a representar les durades, distàncies i velocitats del trajecte. El motiu és, per una banda, que estem familiaritzades amb el Sistema Internacional d'Unitats (d'aquí el canvi de milles a km). I per altra, optar pels km i no pels metres degut a l'ordre de magnitud de les dades."
   ]
  },
  {
   "cell_type": "code",
   "execution_count": null,
   "metadata": {
    "tags": []
   },
   "outputs": [],
   "source": [
    "def post_processing(data):\n",
    "    \"\"\"\n",
    "    Funció on implementar qualsevol tipus de postprocessament necessari.\n",
    "    \"\"\"\n",
    "    # AQUÍ EL TEU CODI\n",
    "    \n",
    "    pass"
   ]
  },
  {
   "cell_type": "code",
   "execution_count": null,
   "metadata": {},
   "outputs": [],
   "source": [
    "test.tail()"
   ]
  },
  {
   "cell_type": "markdown",
   "metadata": {},
   "source": [
    "Amb això podem crear un nou dataset (una única taula) que contingui tota la informació dels anys: 2019, 2020, 2021."
   ]
  },
  {
   "cell_type": "code",
   "execution_count": null,
   "metadata": {
    "tags": []
   },
   "outputs": [],
   "source": [
    "df = pd.concat([clean_data(load_table(year, month), year, month) \n",
    "                for year in tqdm(YEARS) \n",
    "                for month in tqdm(range(1, 13), leave = False)])\n",
    "df = post_processing(df)\n",
    "df.shape"
   ]
  },
  {
   "cell_type": "code",
   "execution_count": null,
   "metadata": {},
   "outputs": [],
   "source": [
    "df.head()"
   ]
  },
  {
   "cell_type": "markdown",
   "metadata": {},
   "source": [
    "## 3. Visualització de dades anuals"
   ]
  },
  {
   "cell_type": "markdown",
   "metadata": {},
   "source": [
    "Començarem per obtenir una resposta quantitativa a la pregunta **S'ha incrementat o ha disminuït amb la covid la quantitat de viatges anuals fets amb taxis?**, n'hi ha prou amb crear una figura de barres on es visualitzin la quantitat de viatges per any.\n",
    "\n",
    "### Exercici C\n",
    "\n",
    "+ Escriu una funció basada en `matplotlib` que generi aquesta gràfica."
   ]
  },
  {
   "cell_type": "code",
   "execution_count": null,
   "metadata": {},
   "outputs": [],
   "source": [
    "def bar_plot(df, column, xlabel, ylabel, title):\n",
    "    \"\"\"\n",
    "    Funció que crea una figura de barres a partir del dataframe i \n",
    "    la columna que conté la informació\n",
    "    \"\"\"\n",
    "    # AQUÍ EL TEU CODI\n",
    "\n",
    "    pass"
   ]
  },
  {
   "cell_type": "markdown",
   "metadata": {},
   "source": [
    "+ Visualitza el nombre de viatges de cada any."
   ]
  },
  {
   "cell_type": "code",
   "execution_count": null,
   "metadata": {
    "tags": []
   },
   "outputs": [],
   "source": [
    "# AQUÍ EL TEU CODI\n",
    "pass"
   ]
  },
  {
   "cell_type": "markdown",
   "metadata": {},
   "source": [
    "+ Visualitza ara en tres gràfiques, el nombre de viatges per mesos de cada any, fent servir la funció anterior."
   ]
  },
  {
   "cell_type": "code",
   "execution_count": null,
   "metadata": {},
   "outputs": [],
   "source": [
    "# AQUÍ EL TEU CODI\n",
    "pass"
   ]
  },
  {
   "cell_type": "markdown",
   "metadata": {},
   "source": [
    "+ És el comportament que esperàveu? Per què?"
   ]
  },
  {
   "cell_type": "markdown",
   "metadata": {},
   "source": [
    "> Resposta:"
   ]
  },
  {
   "cell_type": "markdown",
   "metadata": {},
   "source": [
    "+ Visualitza **quants passatgers hi ha per taxi i per any**. Crea una figura **amb tres subfigures** (una per any) on es pugui veure el recompte de passatgers per any. Després repetiu el mateix gràfic visualitzant el % (utilitzeu el paràmetre *norm = True*)."
   ]
  },
  {
   "cell_type": "code",
   "execution_count": null,
   "metadata": {},
   "outputs": [],
   "source": [
    "def passengers_taxi_year(df, ylim, xlabel, ylabel, title, norm = False):\n",
    "    \"\"\"\n",
    "    Funció que visualitza quants passatgers hi ha per taxi i per any\n",
    "    \"\"\"\n",
    "    \n",
    "    # AQUÍ EL TEU CODI\n",
    "    \n",
    "    pass"
   ]
  },
  {
   "cell_type": "code",
   "execution_count": null,
   "metadata": {
    "tags": []
   },
   "outputs": [],
   "source": [
    "passengers_taxi_year(df, \n",
    "                     (0, 60000), \n",
    "                     'Nombre de passatgers', \n",
    "                     'Recompte de passatgers', \n",
    "                     'Recompte de passatgers per any')"
   ]
  },
  {
   "cell_type": "code",
   "execution_count": null,
   "metadata": {
    "tags": []
   },
   "outputs": [],
   "source": [
    "passengers_taxi_year(df, \n",
    "                     (0, 0.8), \n",
    "                     'Nombre de passatgers', \n",
    "                     '%', \n",
    "                     '% de passatgers per any', \n",
    "                     norm = True)"
   ]
  },
  {
   "cell_type": "markdown",
   "metadata": {},
   "source": [
    "+ Com descriurieu de forma **qualitativa** l'efecte de la covid sobre els taxis en base a l'anàlisi fet fins ara?\n",
    "\n",
    "> Resposta: \n",
    "\n",
    "+ Podeu calcular de forma **quantitativa** la magnitud dels canvis que heu detectat? Escriviu una funció que calculi una sèrie d'indicadors quantitatius (per exemple, quin canvi percentual hi ha en el nombre de viatges d'una sola persona, etc.)."
   ]
  },
  {
   "cell_type": "code",
   "execution_count": null,
   "metadata": {},
   "outputs": [],
   "source": [
    "# AQUÍ EL TEU CODI\n",
    "pass"
   ]
  },
  {
   "cell_type": "markdown",
   "metadata": {},
   "source": [
    "+ Descriviu els resultats quantitatius que heu obtingut.\n",
    "\n",
    "> Resposta: "
   ]
  },
  {
   "cell_type": "markdown",
   "metadata": {},
   "source": [
    "## 4. Quantitat de viatges\n",
    "\n",
    "Fins ara hem vist la quantitat de viatges que hi ha hagut a nivell de mesos i anys.\n",
    "\n",
    "Ara podem estudiar l'efecte de la covid en el nombre de trajectes si **agreguem** les dades per hores, dies de la setmana, setmanes de l'any, etc. \n",
    "\n",
    "### Exercici D\n",
    "\n",
    "+ Escriu una funció genèrica que visualitzi el nombre de trajectes per les agregacions de dades comentades i per cada any. Fes servir gràfics de línies discontínues (una línia per cada any) per veure'n l'evolució i marca amb una rodona o creu allà on està el valor."
   ]
  },
  {
   "cell_type": "code",
   "execution_count": null,
   "metadata": {},
   "outputs": [],
   "source": [
    "def visualize_trips(df, columns, title, xlabel, ylabel):\n",
    "    \"\"\"\n",
    "    Funció que visualitza els viatges per diferents agregacions de dades\n",
    "    \"\"\"\n",
    "    \n",
    "    # AQUÍ EL TEU CODI\n",
    "    \n",
    "    pass"
   ]
  },
  {
   "cell_type": "code",
   "execution_count": null,
   "metadata": {
    "tags": []
   },
   "outputs": [],
   "source": [
    "visualize_trips(df, \n",
    "                ['pickup_hour', 'dropoff_hour'], \n",
    "                title = 'Quantitat de viatges per hora', \n",
    "                xlabel = 'Hora del dia', ylabel = 'Quantitat')"
   ]
  },
  {
   "cell_type": "code",
   "execution_count": null,
   "metadata": {
    "tags": []
   },
   "outputs": [],
   "source": [
    "visualize_trips(df, \n",
    "                ['pickup_day', 'dropoff_day'], \n",
    "                title = 'Quantitat de viatges per dia de la setmana', \n",
    "                xlabel = 'Dia de la setmana', \n",
    "                ylabel = 'Quantitat')"
   ]
  },
  {
   "cell_type": "code",
   "execution_count": null,
   "metadata": {
    "tags": []
   },
   "outputs": [],
   "source": [
    "visualize_trips(df, \n",
    "                ['pickup_week', 'dropoff_week'], \n",
    "                title = 'Quantitat de viatges per setmana de l\\'any', \n",
    "                xlabel = 'Setmana de l\\'any', \n",
    "                ylabel = 'Quanitat')"
   ]
  },
  {
   "cell_type": "markdown",
   "metadata": {},
   "source": [
    "+ Com descriurieu l'efecte de la covid en cada cas (si és que en té)? Quin creieu que és el motiu?"
   ]
  },
  {
   "cell_type": "markdown",
   "metadata": {},
   "source": [
    "> Resposta: "
   ]
  },
  {
   "cell_type": "markdown",
   "metadata": {},
   "source": [
    "## 5. Relació distancia, temps i velocitat\n",
    "\n",
    "A les dades tenim la **distància** que ha recorregut el taxi en cada viatge i de la informació temporal podem extreure també la **durada** d'aquest.\n",
    "\n",
    "Ara explorarem com la covid va afectar les distàncies i les durades dels viatges, i també la velocitat dels taxis. També ens preguntarem si la densitat de trànsit va variar."
   ]
  },
  {
   "cell_type": "markdown",
   "metadata": {},
   "source": [
    "### Exercici E\n",
    "\n",
    "+ Per començar, escriu una funció que visualitzi els **histogrames** de distància i durada per any."
   ]
  },
  {
   "cell_type": "code",
   "execution_count": null,
   "metadata": {},
   "outputs": [],
   "source": [
    "def visualize_histograms(df, column, title, xlabel, ylabel, xlim):\n",
    "    \"\"\"\n",
    "    Funció que crea un histograma a partir de la informació que conté la columna del dataframe\n",
    "    \"\"\"\n",
    "    \n",
    "    # AQUÍ EL TEU CODI\n",
    "    \n",
    "    pass"
   ]
  },
  {
   "cell_type": "code",
   "execution_count": null,
   "metadata": {
    "tags": []
   },
   "outputs": [],
   "source": [
    "visualize_histograms(df, 'trip_distance', title = 'Distància dels viatge per any', \n",
    "                     xlabel = 'Distància (km)', ylabel = 'Quantitat', xlim = (-5, 80))\n",
    "\n",
    "visualize_histograms(df, 'trip_duration', title = 'Durada dels viatges per any', \n",
    "                     xlabel = 'Durada (h)', ylabel = 'Quantitat', xlim = (-1, 25) )\n",
    "\n",
    "visualize_histograms(df, 'speed', title = 'Velocitat dels viatge per any', \n",
    "                     xlabel = 'Velocitat (Km/h)', ylabel = 'Quanitat', xlim = (-1, 25) )"
   ]
  },
  {
   "cell_type": "markdown",
   "metadata": {},
   "source": [
    "* Com creieu que la covid va afectar les distàncies i durades dels viatges?\n",
    "\n",
    "> Resposta:\n",
    "\n",
    "* I a la velocitat dels taxis?\n",
    "\n",
    "> Resposta:"
   ]
  },
  {
   "cell_type": "markdown",
   "metadata": {},
   "source": [
    "## 6. Visualització de les localitzacions dels viatges"
   ]
  },
  {
   "cell_type": "code",
   "execution_count": null,
   "metadata": {},
   "outputs": [],
   "source": [
    "column_names = df.columns.tolist()\n",
    "print(column_names)"
   ]
  },
  {
   "cell_type": "markdown",
   "metadata": {},
   "source": [
    "Només tenim la ID d'una localització, per tant, necessitem aconseguir la latitud i la longitud.\n",
    "\n",
    "La mateixa pàgina dels taxis ens dóna el fitxer *taxi_zones.zip*, però primer cal que convertim les dades de coordenades amb format WGS84.\n",
    "\n",
    "Podem utilitzar aquesta web: https://mygeodata.cloud/"
   ]
  },
  {
   "cell_type": "code",
   "execution_count": null,
   "metadata": {},
   "outputs": [],
   "source": [
    "from utils import get_lat_lon, draw_region_map, draw_zone_map"
   ]
  },
  {
   "cell_type": "code",
   "execution_count": null,
   "metadata": {
    "tags": []
   },
   "outputs": [],
   "source": [
    "sf = shapefile.Reader('data/geodata/taxi_zones.shp')\n",
    "\n",
    "fields_name = [field[0] for field in sf.fields[1:]]\n",
    "shp_dic = dict(zip(fields_name, list(range(len(fields_name)))))\n",
    "attributes = sf.records()\n",
    "shp_attr = [dict(zip(fields_name, attr)) for attr in attributes]"
   ]
  },
  {
   "cell_type": "code",
   "execution_count": null,
   "metadata": {},
   "outputs": [],
   "source": [
    "df_loc = pd.DataFrame(shp_attr).join(get_lat_lon(sf, shp_dic).set_index(\"LocationID\"), on=\"LocationID\")\n",
    "df_loc.head()"
   ]
  },
  {
   "cell_type": "code",
   "execution_count": null,
   "metadata": {
    "tags": []
   },
   "outputs": [],
   "source": [
    "fig, ax = plt.subplots(nrows=1, ncols=2, figsize=(15,8))\n",
    "ax = plt.subplot(1, 2, 1)\n",
    "ax.set_title(\"Boroughs in NYC\")\n",
    "draw_region_map(ax, sf, shp_dic)\n",
    "ax = plt.subplot(1, 2, 2)\n",
    "ax.set_title(\"Zones in NYC\")\n",
    "draw_zone_map(ax, sf, shp_dic)"
   ]
  },
  {
   "cell_type": "markdown",
   "metadata": {},
   "source": [
    "### Exercici F \n",
    "\n",
    "+ Ara teniu dos dataframe que necessitem unir. Utilitza la funció *merge* de Pandas per crear un nou dataframe (conserva el dataframe `df`), anomenat `merge`, que contingui la longitud i latitud (del punt de recollida i del punt de destí) a cada fila. "
   ]
  },
  {
   "cell_type": "code",
   "execution_count": null,
   "metadata": {},
   "outputs": [],
   "source": [
    "# AQUÍ EL TEU CODI\n",
    "\n",
    "pass"
   ]
  },
  {
   "cell_type": "code",
   "execution_count": null,
   "metadata": {},
   "outputs": [],
   "source": [
    "merge.shape"
   ]
  },
  {
   "cell_type": "code",
   "execution_count": null,
   "metadata": {},
   "outputs": [],
   "source": [
    "merge.head()"
   ]
  },
  {
   "cell_type": "markdown",
   "metadata": {},
   "source": [
    "## 7. Quines zones de NY tenen més recollides i quines zones tenen més arribades?\n",
    "\n",
    "En aquest apartat volem conèixer i visualitzar les zones on els taxis són més utilitzats.\n",
    "\n",
    "El primer pas és ordenar i guardar en una variable els llocs més comuns en la recollida i el destí.\n",
    "\n",
    "### Exercici G\n",
    "+  Escriu una funció `show_top_n` que imprimeix els 5 llocs més freqüents de recollida i els 5 llocs més freqüents d'arribada, per cada any."
   ]
  },
  {
   "cell_type": "code",
   "execution_count": null,
   "metadata": {},
   "outputs": [],
   "source": [
    "n_top = 5\n",
    "def show_top_n(df, column, df_loc, n_top = n_top):\n",
    "    \"\"\"\n",
    "    Funció que mostra els llocs més usuals per any\n",
    "    \"\"\"\n",
    "    # AQUÍ EL TEU CODI\n",
    "    pass"
   ]
  },
  {
   "cell_type": "code",
   "execution_count": null,
   "metadata": {},
   "outputs": [],
   "source": [
    "show_top_n(top_pu, 'PULocationID', df_loc)"
   ]
  },
  {
   "cell_type": "code",
   "execution_count": null,
   "metadata": {},
   "outputs": [],
   "source": [
    "show_top_n(top_do, 'DOLocationID', df_loc)"
   ]
  },
  {
   "cell_type": "markdown",
   "metadata": {},
   "source": [
    "Visualitzem amb un mapa de calor quines són les zones més recurrents."
   ]
  },
  {
   "cell_type": "code",
   "execution_count": null,
   "metadata": {},
   "outputs": [],
   "source": [
    "for year in YEARS:\n",
    "    \n",
    "    PUcount = {k:v for k, v in top_do[top_do.year == year][['DOLocationID', 'trip_distance']].values}\n",
    "\n",
    "    fig, ax = plt.subplots(nrows=1, ncols=2, figsize=(12,5))\n",
    "    ax = plt.subplot(1, 2, 1)\n",
    "    ax.set_title(f\"Zones with most pickups - {year}\")\n",
    "    draw_zone_map(ax, sf, shp_dic, heat=PUcount, text=list(PUcount.keys())[:3])\n",
    "    ax = plt.subplot(1, 2, 2)\n",
    "    ax.set_title(f\"Zones with most drop-offs - {year}\")\n",
    "    draw_zone_map(ax, sf, shp_dic, heat=PUcount, text=list(PUcount.keys())[:3])"
   ]
  },
  {
   "cell_type": "markdown",
   "metadata": {},
   "source": [
    "+ Per què creieu que la zona de Manhattan té més quantitat de viatges?\n",
    "\n",
    "> Resposta: "
   ]
  },
  {
   "cell_type": "markdown",
   "metadata": {},
   "source": [
    "## 8. Hospitals\n",
    "\n",
    "Com ha canviat la destinació dels viatges? Hi ha més viatges a les zones on hi ha grans hospitals?\n",
    "\n",
    "A la següent cel·la us donem la creació manual d'un DataFrame amb la localització més important dels hospitals de Nova York."
   ]
  },
  {
   "cell_type": "code",
   "execution_count": null,
   "metadata": {},
   "outputs": [],
   "source": [
    "hospitals = [('New York’s Presbyterian Lower Manhattan Hospital, NYC, NY, USA', '40.710255', '-74.005058'),\n",
    "('Manhattan Gastroenterology, NYC, NY, USA', '40.778259', '-73.958092'),\n",
    "('Stem Cell Therapy Hospital, NYC, NY, USA', '40.601517', '-73.961067'),\n",
    "('Park Avenue Smiles, Yonkers, NYC, NY, USA', '40.945873', '-73.890671'),\n",
    "('Cosmetic Dentistry Center, NYC, NY, USA', '40.629234', '-74.026077'),\n",
    "('Envy Smile Dental Spa, Brooklyn, NYC, NY, USA', '40.607059', '-73.960144'),\n",
    "('VIVA EVE, Forest Hills, NYC, NY, USA', '40.734291', '-73.849434'),\n",
    "('Forest Hills Medical Services, Queens, NYC, NY, USA', '40.734310', '-73.849510'),\n",
    "('Professional Gynecological Services, Brooklyn, NY, NY, USA', '40.689747', '-73.982346'),\n",
    "('Manhattan Womens Health & Wellness, New York, NY, USA', '40.741997', '-73.986107'),\n",
    "('Brooklyn Abortion Clinic, Brooklyn, NY, New York, USA', '40.689743', '-73.982368'),\n",
    "('Brooklyn GYN Place, Brooklyn, NY, USA', '40.692696', '-73.993584'),\n",
    "('Americas Holistic Doctor, NYC, NY, USA', '40.742531', '-73.985489'),\n",
    "('NJS Physical Medicine & Rehabilitation, Brooklyn, NY, USA', '40.641621', '-73.956734'),\n",
    "('DHD Medical, Brooklyn New York, USA', '40.625568', '-73.918320'),\n",
    "('Workers Compensation Doctor, New York, NY, USA', '40.652225', '-74.006104'),]\n",
    "\n",
    "hospitals = pd.DataFrame(hospitals, columns = ['Place Name', 'Latitude', 'Longitude'])\n",
    "hospitals['Latitude'] = hospitals['Latitude'].astype(float)\n",
    "hospitals['Longitude'] = hospitals['Longitude'].astype(float)\n",
    "hospitals.head()"
   ]
  },
  {
   "cell_type": "markdown",
   "metadata": {},
   "source": [
    "### Exercici H\n",
    "\n",
    "+ Utilitza la latitud i longitud de cada hospital i la de les zones del dataframe *merge* per veure la relació entre la distribució dels hospitals i la dels viatges. Per fer-ho utilitza els gràfics de dispersió. Recorda que s'entendrà millor si els punts són transparents (paràmetre *alpha*).\n",
    "\n",
    "+ Després repeteix el mateix gràfic però separat per any. "
   ]
  },
  {
   "cell_type": "code",
   "execution_count": null,
   "metadata": {},
   "outputs": [],
   "source": [
    "def scatter_locations(merge, hospitals):\n",
    "    \"\"\"Funció que mostra la distribució dels hospitals i les destinacions dels taxis\"\"\"\n",
    "    # AQUÍ EL TEU CODI\n",
    "    pass"
   ]
  },
  {
   "cell_type": "code",
   "execution_count": null,
   "metadata": {},
   "outputs": [],
   "source": [
    "scatter_locations(merge, hospitals)"
   ]
  },
  {
   "cell_type": "code",
   "execution_count": null,
   "metadata": {},
   "outputs": [],
   "source": [
    "def scatter_locations_per_year(merge, hospitals):\n",
    "    \"\"\"Funció que mostra la distribució dels hospitals i les destinacions dels taxis\"\"\"\n",
    "    # AQUÍ EL TEU CODI\n",
    "    pass"
   ]
  },
  {
   "cell_type": "code",
   "execution_count": null,
   "metadata": {},
   "outputs": [],
   "source": [
    "scatter_locations_per_year(merge, hospitals)"
   ]
  },
  {
   "cell_type": "markdown",
   "metadata": {},
   "source": [
    "* Veus algun comportament interessant per comentar?\n",
    "> Resposta: "
   ]
  }
 ],
 "metadata": {
  "kernelspec": {
   "display_name": "Python 3",
   "language": "python",
   "name": "python3"
  },
  "language_info": {
   "codemirror_mode": {
    "name": "ipython",
    "version": 3
   },
   "file_extension": ".py",
   "mimetype": "text/x-python",
   "name": "python",
   "nbconvert_exporter": "python",
   "pygments_lexer": "ipython3",
   "version": "3.7.4"
  }
 },
 "nbformat": 4,
 "nbformat_minor": 5
}
